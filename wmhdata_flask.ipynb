{
 "metadata": {
  "language_info": {
   "codemirror_mode": {
    "name": "ipython",
    "version": 3
   },
   "file_extension": ".py",
   "mimetype": "text/x-python",
   "name": "python",
   "nbconvert_exporter": "python",
   "pygments_lexer": "ipython3",
   "version": "3.8.5"
  },
  "orig_nbformat": 2,
  "kernelspec": {
   "name": "python385jvsc74a57bd0577179bf4518a988c8adfc40d9f19697837bdaff2a8a81f39001ca7a1ca5445c",
   "display_name": "Python 3.8.5 64-bit ('base': conda)"
  },
  "metadata": {
   "interpreter": {
    "hash": "577179bf4518a988c8adfc40d9f19697837bdaff2a8a81f39001ca7a1ca5445c"
   }
  }
 },
 "nbformat": 4,
 "nbformat_minor": 2,
 "cells": [
  {
   "cell_type": "code",
   "execution_count": 1,
   "metadata": {},
   "outputs": [
    {
     "output_type": "stream",
     "name": "stdout",
     "text": [
      "Requirement already satisfied: sqlalchemy in /Users/vjuliana/opt/anaconda3/lib/python3.8/site-packages (1.3.20)\n"
     ]
    }
   ],
   "source": [
    "# Check if sqlalchemy is already installed\n",
    "# !pip install sqlalchemy"
   ]
  },
  {
   "cell_type": "code",
   "execution_count": 2,
   "metadata": {},
   "outputs": [],
   "source": [
    "# Import dependencies\n",
    "from flask import Flask, render_template, redirect\n",
    "import sqlalchemy\n",
    "import pandas as pd\n",
    "from sqlalchemy import create_engine, func\n",
    "from sqlalchemy.orm import Session"
   ]
  },
  {
   "source": [
    "Connecting to PostgreSQL DB and read data in pandas"
   ],
   "cell_type": "markdown",
   "metadata": {}
  },
  {
   "cell_type": "code",
   "execution_count": 4,
   "metadata": {},
   "outputs": [],
   "source": [
    "# Connect to PostgreSQL database\n",
    "\n",
    "# for everyone else\n",
    "rds_connection_string = \"postgres:postgres@localhost:5432/whatdoyoumean_db\"\n",
    "engine = create_engine(f'postgresql://{rds_connection_string}')\n",
    "\n",
    "# Diane's use only\n",
    "# rds_connection_string = \"postgres:309Malanday!@localhost:5432/events_db\"\n",
    "# engine = create_engine(f'postgresql://{rds_connection_string}')"
   ]
  },
  {
   "cell_type": "code",
   "execution_count": 5,
   "metadata": {},
   "outputs": [
    {
     "output_type": "execute_result",
     "data": {
      "text/plain": [
       "             Entity  Year  A_below_5yo  D_below_5yo  A_above_5yo  D_above_5yo  \\\n",
       "0       Afghanistan  2021    11.119785     0.275587   289.238583   165.066037   \n",
       "1           Albania  2021     8.519635     0.194262   225.356968    88.276859   \n",
       "2           Algeria  2021    11.318114     0.279324   279.091150   152.728097   \n",
       "3    American Samoa  2021     9.241162     0.200379   238.598004   106.835378   \n",
       "4           Andorra  2021    19.783214     0.340381   423.794172   173.031069   \n",
       "..              ...   ...          ...          ...          ...          ...   \n",
       "196           Wales  2021    17.077502     0.342812   372.027201   188.433933   \n",
       "197  Western Europe  2021    18.947513     0.309074   438.091657   173.384505   \n",
       "198           Yemen  2021    10.934672     0.280212   283.941426   163.306041   \n",
       "199          Zambia  2021     9.386978     0.229947   238.966593   137.099732   \n",
       "200        Zimbabwe  2021     8.757299     0.211329   218.339936    99.222604   \n",
       "\n",
       "     A_above_14yo  D_above_14yo  A_above_49yo  D_above_49yo  A_above_69yo  \\\n",
       "0      588.065037    882.819554    489.318709   1004.245872    353.432429   \n",
       "1      376.367705    395.146164    385.415179    551.287825    327.802604   \n",
       "2      616.019195    793.720945    481.222364    872.687866    354.626848   \n",
       "3      355.204127    482.738576    400.007927    714.757845    360.762687   \n",
       "4      574.779072    768.371717    517.158177    741.623664    393.133146   \n",
       "..            ...           ...           ...           ...           ...   \n",
       "196    510.591378    855.269835    457.779501    788.198319    354.536046   \n",
       "197    607.044690    803.678681    558.724980    804.917684    428.861910   \n",
       "198    600.921418    905.840506    478.857837    986.980330    357.716872   \n",
       "199    434.784591    649.941337    381.216731   1132.202067    314.587644   \n",
       "200    369.886265    537.845205    307.956730    931.876550    240.959516   \n",
       "\n",
       "     D_above_69yo   latitude   longitude  \n",
       "0      782.107595  33.513199   65.664803  \n",
       "1      655.249068  42.651242  -73.755418  \n",
       "2      715.375456  36.775348    3.060066  \n",
       "3      705.653478 -14.293662 -170.698357  \n",
       "4      711.605536  42.545250    1.576297  \n",
       "..            ...        ...         ...  \n",
       "196    697.506436  52.292812   -3.738930  \n",
       "197    760.215540  -6.181610  106.706720  \n",
       "198    769.525152  14.674200   45.585800  \n",
       "199   1312.748514 -13.115900   27.446899  \n",
       "200   1198.462249 -19.447100   29.815201  \n",
       "\n",
       "[201 rows x 14 columns]"
      ],
      "text/html": "<div>\n<style scoped>\n    .dataframe tbody tr th:only-of-type {\n        vertical-align: middle;\n    }\n\n    .dataframe tbody tr th {\n        vertical-align: top;\n    }\n\n    .dataframe thead th {\n        text-align: right;\n    }\n</style>\n<table border=\"1\" class=\"dataframe\">\n  <thead>\n    <tr style=\"text-align: right;\">\n      <th></th>\n      <th>Entity</th>\n      <th>Year</th>\n      <th>A_below_5yo</th>\n      <th>D_below_5yo</th>\n      <th>A_above_5yo</th>\n      <th>D_above_5yo</th>\n      <th>A_above_14yo</th>\n      <th>D_above_14yo</th>\n      <th>A_above_49yo</th>\n      <th>D_above_49yo</th>\n      <th>A_above_69yo</th>\n      <th>D_above_69yo</th>\n      <th>latitude</th>\n      <th>longitude</th>\n    </tr>\n  </thead>\n  <tbody>\n    <tr>\n      <th>0</th>\n      <td>Afghanistan</td>\n      <td>2021</td>\n      <td>11.119785</td>\n      <td>0.275587</td>\n      <td>289.238583</td>\n      <td>165.066037</td>\n      <td>588.065037</td>\n      <td>882.819554</td>\n      <td>489.318709</td>\n      <td>1004.245872</td>\n      <td>353.432429</td>\n      <td>782.107595</td>\n      <td>33.513199</td>\n      <td>65.664803</td>\n    </tr>\n    <tr>\n      <th>1</th>\n      <td>Albania</td>\n      <td>2021</td>\n      <td>8.519635</td>\n      <td>0.194262</td>\n      <td>225.356968</td>\n      <td>88.276859</td>\n      <td>376.367705</td>\n      <td>395.146164</td>\n      <td>385.415179</td>\n      <td>551.287825</td>\n      <td>327.802604</td>\n      <td>655.249068</td>\n      <td>42.651242</td>\n      <td>-73.755418</td>\n    </tr>\n    <tr>\n      <th>2</th>\n      <td>Algeria</td>\n      <td>2021</td>\n      <td>11.318114</td>\n      <td>0.279324</td>\n      <td>279.091150</td>\n      <td>152.728097</td>\n      <td>616.019195</td>\n      <td>793.720945</td>\n      <td>481.222364</td>\n      <td>872.687866</td>\n      <td>354.626848</td>\n      <td>715.375456</td>\n      <td>36.775348</td>\n      <td>3.060066</td>\n    </tr>\n    <tr>\n      <th>3</th>\n      <td>American Samoa</td>\n      <td>2021</td>\n      <td>9.241162</td>\n      <td>0.200379</td>\n      <td>238.598004</td>\n      <td>106.835378</td>\n      <td>355.204127</td>\n      <td>482.738576</td>\n      <td>400.007927</td>\n      <td>714.757845</td>\n      <td>360.762687</td>\n      <td>705.653478</td>\n      <td>-14.293662</td>\n      <td>-170.698357</td>\n    </tr>\n    <tr>\n      <th>4</th>\n      <td>Andorra</td>\n      <td>2021</td>\n      <td>19.783214</td>\n      <td>0.340381</td>\n      <td>423.794172</td>\n      <td>173.031069</td>\n      <td>574.779072</td>\n      <td>768.371717</td>\n      <td>517.158177</td>\n      <td>741.623664</td>\n      <td>393.133146</td>\n      <td>711.605536</td>\n      <td>42.545250</td>\n      <td>1.576297</td>\n    </tr>\n    <tr>\n      <th>...</th>\n      <td>...</td>\n      <td>...</td>\n      <td>...</td>\n      <td>...</td>\n      <td>...</td>\n      <td>...</td>\n      <td>...</td>\n      <td>...</td>\n      <td>...</td>\n      <td>...</td>\n      <td>...</td>\n      <td>...</td>\n      <td>...</td>\n      <td>...</td>\n    </tr>\n    <tr>\n      <th>196</th>\n      <td>Wales</td>\n      <td>2021</td>\n      <td>17.077502</td>\n      <td>0.342812</td>\n      <td>372.027201</td>\n      <td>188.433933</td>\n      <td>510.591378</td>\n      <td>855.269835</td>\n      <td>457.779501</td>\n      <td>788.198319</td>\n      <td>354.536046</td>\n      <td>697.506436</td>\n      <td>52.292812</td>\n      <td>-3.738930</td>\n    </tr>\n    <tr>\n      <th>197</th>\n      <td>Western Europe</td>\n      <td>2021</td>\n      <td>18.947513</td>\n      <td>0.309074</td>\n      <td>438.091657</td>\n      <td>173.384505</td>\n      <td>607.044690</td>\n      <td>803.678681</td>\n      <td>558.724980</td>\n      <td>804.917684</td>\n      <td>428.861910</td>\n      <td>760.215540</td>\n      <td>-6.181610</td>\n      <td>106.706720</td>\n    </tr>\n    <tr>\n      <th>198</th>\n      <td>Yemen</td>\n      <td>2021</td>\n      <td>10.934672</td>\n      <td>0.280212</td>\n      <td>283.941426</td>\n      <td>163.306041</td>\n      <td>600.921418</td>\n      <td>905.840506</td>\n      <td>478.857837</td>\n      <td>986.980330</td>\n      <td>357.716872</td>\n      <td>769.525152</td>\n      <td>14.674200</td>\n      <td>45.585800</td>\n    </tr>\n    <tr>\n      <th>199</th>\n      <td>Zambia</td>\n      <td>2021</td>\n      <td>9.386978</td>\n      <td>0.229947</td>\n      <td>238.966593</td>\n      <td>137.099732</td>\n      <td>434.784591</td>\n      <td>649.941337</td>\n      <td>381.216731</td>\n      <td>1132.202067</td>\n      <td>314.587644</td>\n      <td>1312.748514</td>\n      <td>-13.115900</td>\n      <td>27.446899</td>\n    </tr>\n    <tr>\n      <th>200</th>\n      <td>Zimbabwe</td>\n      <td>2021</td>\n      <td>8.757299</td>\n      <td>0.211329</td>\n      <td>218.339936</td>\n      <td>99.222604</td>\n      <td>369.886265</td>\n      <td>537.845205</td>\n      <td>307.956730</td>\n      <td>931.876550</td>\n      <td>240.959516</td>\n      <td>1198.462249</td>\n      <td>-19.447100</td>\n      <td>29.815201</td>\n    </tr>\n  </tbody>\n</table>\n<p>201 rows × 14 columns</p>\n</div>"
     },
     "metadata": {},
     "execution_count": 5
    }
   ],
   "source": [
    "# Run code to check connection is established and data is reading out from postgres database\n",
    "wmhdata = pd.read_sql_table('whatdoyoumean_table', engine) \n",
    "wmhdata"
   ]
  },
  {
   "cell_type": "code",
   "execution_count": null,
   "metadata": {},
   "outputs": [],
   "source": []
  }
 ]
}