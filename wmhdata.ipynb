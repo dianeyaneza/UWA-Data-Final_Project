{
 "metadata": {
  "language_info": {
   "codemirror_mode": {
    "name": "ipython",
    "version": 3
   },
   "file_extension": ".py",
   "mimetype": "text/x-python",
   "name": "python",
   "nbconvert_exporter": "python",
   "pygments_lexer": "ipython3",
   "version": "3.8.5"
  },
  "orig_nbformat": 2,
  "kernelspec": {
   "name": "python385jvsc74a57bd0577179bf4518a988c8adfc40d9f19697837bdaff2a8a81f39001ca7a1ca5445c",
   "display_name": "Python 3.8.5 64-bit ('base': conda)"
  },
  "metadata": {
   "interpreter": {
    "hash": "577179bf4518a988c8adfc40d9f19697837bdaff2a8a81f39001ca7a1ca5445c"
   }
  }
 },
 "nbformat": 4,
 "nbformat_minor": 2,
 "cells": [
  {
   "cell_type": "code",
   "execution_count": 1,
   "metadata": {},
   "outputs": [],
   "source": [
    "# Dependencies\n",
    "import csv\n",
    "import os\n",
    "import pandas as pd"
   ]
  },
  {
   "cell_type": "code",
   "execution_count": 2,
   "metadata": {},
   "outputs": [],
   "source": [
    "# Study data files\n",
    "anxiety_path = \"static/data/daly-anxiety-age.csv\"\n",
    "depression_path = \"static/data/daly-depression-age.csv\""
   ]
  },
  {
   "cell_type": "code",
   "execution_count": 3,
   "metadata": {},
   "outputs": [],
   "source": [
    "# Read the data\n",
    "anxiety_data = pd.read_csv(anxiety_path)\n",
    "depression_data = pd.read_csv(depression_path)"
   ]
  },
  {
   "cell_type": "code",
   "execution_count": 4,
   "metadata": {},
   "outputs": [
    {
     "output_type": "execute_result",
     "data": {
      "text/plain": [
       "Index(['Entity', 'Code', 'Year',\n",
       "       'DALYs (Disability-Adjusted Life Years) - Anxiety disorders - Sex: Both - Age: Under 5 (Rate)',\n",
       "       'DALYs (Disability-Adjusted Life Years) - Anxiety disorders - Sex: Both - Age: All Ages (Rate)',\n",
       "       'DALYs (Disability-Adjusted Life Years) - Anxiety disorders - Sex: Both - Age: 70+ years (Rate)',\n",
       "       'DALYs (Disability-Adjusted Life Years) - Anxiety disorders - Sex: Both - Age: 50-69 years (Rate)',\n",
       "       'DALYs (Disability-Adjusted Life Years) - Anxiety disorders - Sex: Both - Age: 5-14 years (Rate)',\n",
       "       'DALYs (Disability-Adjusted Life Years) - Anxiety disorders - Sex: Both - Age: 15-49 years (Rate)',\n",
       "       'DALYs (Disability-Adjusted Life Years) - Anxiety disorders - Sex: Both - Age: Age-standardized (Rate)'],\n",
       "      dtype='object')"
      ]
     },
     "metadata": {},
     "execution_count": 4
    }
   ],
   "source": [
    "anxiety_data.columns"
   ]
  },
  {
   "cell_type": "code",
   "execution_count": 5,
   "metadata": {},
   "outputs": [
    {
     "output_type": "execute_result",
     "data": {
      "text/plain": [
       "Index(['Entity', 'Code', 'Year',\n",
       "       'DALYs (Disability-Adjusted Life Years) - Depressive disorders - Sex: Both - Age: Under 5 (Rate)',\n",
       "       'DALYs (Disability-Adjusted Life Years) - Depressive disorders - Sex: Both - Age: 5-14 years (Rate)',\n",
       "       'DALYs (Disability-Adjusted Life Years) - Depressive disorders - Sex: Both - Age: 15-49 years (Rate)',\n",
       "       'DALYs (Disability-Adjusted Life Years) - Depressive disorders - Sex: Both - Age: 50-69 years (Rate)',\n",
       "       'DALYs (Disability-Adjusted Life Years) - Depressive disorders - Sex: Both - Age: 70+ years (Rate)',\n",
       "       'DALYs (Disability-Adjusted Life Years) - Depressive disorders - Sex: Both - Age: All Ages (Rate)',\n",
       "       'DALYs (Disability-Adjusted Life Years) - Depressive disorders - Sex: Both - Age: Age-standardized (Rate)'],\n",
       "      dtype='object')"
      ]
     },
     "metadata": {},
     "execution_count": 5
    }
   ],
   "source": [
    "depression_data.columns"
   ]
  },
  {
   "cell_type": "code",
   "execution_count": 6,
   "metadata": {},
   "outputs": [
    {
     "output_type": "execute_result",
     "data": {
      "text/plain": [
       "           Entity  Year         <5        5-14       15-49       50-69  \\\n",
       "0     Afghanistan  1990  10.851451  290.799110  583.050750  453.736877   \n",
       "1     Afghanistan  1991  10.758383  287.732096  582.755568  453.919631   \n",
       "2     Afghanistan  1992  10.387921  284.531098  585.121129  456.690054   \n",
       "3     Afghanistan  1993  10.289752  281.185300  585.995450  459.518593   \n",
       "4     Afghanistan  1994  10.464435  278.113533  587.736708  459.959994   \n",
       "...           ...   ...        ...         ...         ...         ...   \n",
       "6463     Zimbabwe  2013   8.612919  218.803990  366.898089  308.151268   \n",
       "6464     Zimbabwe  2014   8.731586  218.915348  367.400269  307.741827   \n",
       "6465     Zimbabwe  2015   8.646030  218.663565  367.898632  308.310431   \n",
       "6466     Zimbabwe  2016   8.777977  218.323865  368.456731  308.376755   \n",
       "6467     Zimbabwe  2017   8.773549  218.567461  369.090140  308.281666   \n",
       "\n",
       "             70+  \n",
       "0     336.764668  \n",
       "1     336.346214  \n",
       "2     336.558722  \n",
       "3     336.870769  \n",
       "4     337.476586  \n",
       "...          ...  \n",
       "6463  240.396429  \n",
       "6464  239.889862  \n",
       "6465  240.390428  \n",
       "6466  240.443753  \n",
       "6467  240.719008  \n",
       "\n",
       "[6468 rows x 7 columns]"
      ],
      "text/html": "<div>\n<style scoped>\n    .dataframe tbody tr th:only-of-type {\n        vertical-align: middle;\n    }\n\n    .dataframe tbody tr th {\n        vertical-align: top;\n    }\n\n    .dataframe thead th {\n        text-align: right;\n    }\n</style>\n<table border=\"1\" class=\"dataframe\">\n  <thead>\n    <tr style=\"text-align: right;\">\n      <th></th>\n      <th>Entity</th>\n      <th>Year</th>\n      <th>&lt;5</th>\n      <th>5-14</th>\n      <th>15-49</th>\n      <th>50-69</th>\n      <th>70+</th>\n    </tr>\n  </thead>\n  <tbody>\n    <tr>\n      <th>0</th>\n      <td>Afghanistan</td>\n      <td>1990</td>\n      <td>10.851451</td>\n      <td>290.799110</td>\n      <td>583.050750</td>\n      <td>453.736877</td>\n      <td>336.764668</td>\n    </tr>\n    <tr>\n      <th>1</th>\n      <td>Afghanistan</td>\n      <td>1991</td>\n      <td>10.758383</td>\n      <td>287.732096</td>\n      <td>582.755568</td>\n      <td>453.919631</td>\n      <td>336.346214</td>\n    </tr>\n    <tr>\n      <th>2</th>\n      <td>Afghanistan</td>\n      <td>1992</td>\n      <td>10.387921</td>\n      <td>284.531098</td>\n      <td>585.121129</td>\n      <td>456.690054</td>\n      <td>336.558722</td>\n    </tr>\n    <tr>\n      <th>3</th>\n      <td>Afghanistan</td>\n      <td>1993</td>\n      <td>10.289752</td>\n      <td>281.185300</td>\n      <td>585.995450</td>\n      <td>459.518593</td>\n      <td>336.870769</td>\n    </tr>\n    <tr>\n      <th>4</th>\n      <td>Afghanistan</td>\n      <td>1994</td>\n      <td>10.464435</td>\n      <td>278.113533</td>\n      <td>587.736708</td>\n      <td>459.959994</td>\n      <td>337.476586</td>\n    </tr>\n    <tr>\n      <th>...</th>\n      <td>...</td>\n      <td>...</td>\n      <td>...</td>\n      <td>...</td>\n      <td>...</td>\n      <td>...</td>\n      <td>...</td>\n    </tr>\n    <tr>\n      <th>6463</th>\n      <td>Zimbabwe</td>\n      <td>2013</td>\n      <td>8.612919</td>\n      <td>218.803990</td>\n      <td>366.898089</td>\n      <td>308.151268</td>\n      <td>240.396429</td>\n    </tr>\n    <tr>\n      <th>6464</th>\n      <td>Zimbabwe</td>\n      <td>2014</td>\n      <td>8.731586</td>\n      <td>218.915348</td>\n      <td>367.400269</td>\n      <td>307.741827</td>\n      <td>239.889862</td>\n    </tr>\n    <tr>\n      <th>6465</th>\n      <td>Zimbabwe</td>\n      <td>2015</td>\n      <td>8.646030</td>\n      <td>218.663565</td>\n      <td>367.898632</td>\n      <td>308.310431</td>\n      <td>240.390428</td>\n    </tr>\n    <tr>\n      <th>6466</th>\n      <td>Zimbabwe</td>\n      <td>2016</td>\n      <td>8.777977</td>\n      <td>218.323865</td>\n      <td>368.456731</td>\n      <td>308.376755</td>\n      <td>240.443753</td>\n    </tr>\n    <tr>\n      <th>6467</th>\n      <td>Zimbabwe</td>\n      <td>2017</td>\n      <td>8.773549</td>\n      <td>218.567461</td>\n      <td>369.090140</td>\n      <td>308.281666</td>\n      <td>240.719008</td>\n    </tr>\n  </tbody>\n</table>\n<p>6468 rows × 7 columns</p>\n</div>"
     },
     "metadata": {},
     "execution_count": 6
    }
   ],
   "source": [
    "anxiety_df = anxiety_data[[\"Entity\", \"Year\", \"DALYs (Disability-Adjusted Life Years) - Anxiety disorders - Sex: Both - Age: Under 5 (Rate)\", \"DALYs (Disability-Adjusted Life Years) - Anxiety disorders - Sex: Both - Age: 5-14 years (Rate)\", \"DALYs (Disability-Adjusted Life Years) - Anxiety disorders - Sex: Both - Age: 15-49 years (Rate)\", \"DALYs (Disability-Adjusted Life Years) - Anxiety disorders - Sex: Both - Age: 50-69 years (Rate)\", \"DALYs (Disability-Adjusted Life Years) - Anxiety disorders - Sex: Both - Age: 70+ years (Rate)\"]]\n",
    "anxiety_df.columns = [\"Entity\", \"Year\", \"<5\", \"5-14\", \"15-49\", \"50-69\", \"70+\"]\n",
    "anxiety_df"
   ]
  },
  {
   "cell_type": "code",
   "execution_count": 7,
   "metadata": {},
   "outputs": [
    {
     "output_type": "execute_result",
     "data": {
      "text/plain": [
       "           Entity  Year        <5        5-14       15-49       50-69  \\\n",
       "0     Afghanistan  1990  0.271187  171.879841  875.280470  950.293471   \n",
       "1     Afghanistan  1991  0.268624  166.950366  870.018856  950.792194   \n",
       "2     Afghanistan  1992  0.260249  162.987003  859.514720  954.455355   \n",
       "3     Afghanistan  1993  0.258343  159.584534  856.438776  957.746985   \n",
       "4     Afghanistan  1994  0.263607  155.962684  861.397337  958.766015   \n",
       "...           ...   ...       ...         ...         ...         ...   \n",
       "6463     Zimbabwe  2013  0.207890   99.998684  510.320566  896.809679   \n",
       "6464     Zimbabwe  2014  0.208552  100.062666  514.009756  901.387971   \n",
       "6465     Zimbabwe  2015  0.209203   99.655702  518.964077  905.877422   \n",
       "6466     Zimbabwe  2016  0.209759   99.808751  523.691812  911.817819   \n",
       "6467     Zimbabwe  2017  0.210091   99.256370  528.616947  917.890919   \n",
       "\n",
       "              70+  \n",
       "0      766.893212  \n",
       "1      765.393867  \n",
       "2      762.681493  \n",
       "3      760.617836  \n",
       "4      759.161396  \n",
       "...           ...  \n",
       "6463  1175.721573  \n",
       "6464  1179.094335  \n",
       "6465  1183.005990  \n",
       "6466  1185.139894  \n",
       "6467  1189.683420  \n",
       "\n",
       "[6468 rows x 7 columns]"
      ],
      "text/html": "<div>\n<style scoped>\n    .dataframe tbody tr th:only-of-type {\n        vertical-align: middle;\n    }\n\n    .dataframe tbody tr th {\n        vertical-align: top;\n    }\n\n    .dataframe thead th {\n        text-align: right;\n    }\n</style>\n<table border=\"1\" class=\"dataframe\">\n  <thead>\n    <tr style=\"text-align: right;\">\n      <th></th>\n      <th>Entity</th>\n      <th>Year</th>\n      <th>&lt;5</th>\n      <th>5-14</th>\n      <th>15-49</th>\n      <th>50-69</th>\n      <th>70+</th>\n    </tr>\n  </thead>\n  <tbody>\n    <tr>\n      <th>0</th>\n      <td>Afghanistan</td>\n      <td>1990</td>\n      <td>0.271187</td>\n      <td>171.879841</td>\n      <td>875.280470</td>\n      <td>950.293471</td>\n      <td>766.893212</td>\n    </tr>\n    <tr>\n      <th>1</th>\n      <td>Afghanistan</td>\n      <td>1991</td>\n      <td>0.268624</td>\n      <td>166.950366</td>\n      <td>870.018856</td>\n      <td>950.792194</td>\n      <td>765.393867</td>\n    </tr>\n    <tr>\n      <th>2</th>\n      <td>Afghanistan</td>\n      <td>1992</td>\n      <td>0.260249</td>\n      <td>162.987003</td>\n      <td>859.514720</td>\n      <td>954.455355</td>\n      <td>762.681493</td>\n    </tr>\n    <tr>\n      <th>3</th>\n      <td>Afghanistan</td>\n      <td>1993</td>\n      <td>0.258343</td>\n      <td>159.584534</td>\n      <td>856.438776</td>\n      <td>957.746985</td>\n      <td>760.617836</td>\n    </tr>\n    <tr>\n      <th>4</th>\n      <td>Afghanistan</td>\n      <td>1994</td>\n      <td>0.263607</td>\n      <td>155.962684</td>\n      <td>861.397337</td>\n      <td>958.766015</td>\n      <td>759.161396</td>\n    </tr>\n    <tr>\n      <th>...</th>\n      <td>...</td>\n      <td>...</td>\n      <td>...</td>\n      <td>...</td>\n      <td>...</td>\n      <td>...</td>\n      <td>...</td>\n    </tr>\n    <tr>\n      <th>6463</th>\n      <td>Zimbabwe</td>\n      <td>2013</td>\n      <td>0.207890</td>\n      <td>99.998684</td>\n      <td>510.320566</td>\n      <td>896.809679</td>\n      <td>1175.721573</td>\n    </tr>\n    <tr>\n      <th>6464</th>\n      <td>Zimbabwe</td>\n      <td>2014</td>\n      <td>0.208552</td>\n      <td>100.062666</td>\n      <td>514.009756</td>\n      <td>901.387971</td>\n      <td>1179.094335</td>\n    </tr>\n    <tr>\n      <th>6465</th>\n      <td>Zimbabwe</td>\n      <td>2015</td>\n      <td>0.209203</td>\n      <td>99.655702</td>\n      <td>518.964077</td>\n      <td>905.877422</td>\n      <td>1183.005990</td>\n    </tr>\n    <tr>\n      <th>6466</th>\n      <td>Zimbabwe</td>\n      <td>2016</td>\n      <td>0.209759</td>\n      <td>99.808751</td>\n      <td>523.691812</td>\n      <td>911.817819</td>\n      <td>1185.139894</td>\n    </tr>\n    <tr>\n      <th>6467</th>\n      <td>Zimbabwe</td>\n      <td>2017</td>\n      <td>0.210091</td>\n      <td>99.256370</td>\n      <td>528.616947</td>\n      <td>917.890919</td>\n      <td>1189.683420</td>\n    </tr>\n  </tbody>\n</table>\n<p>6468 rows × 7 columns</p>\n</div>"
     },
     "metadata": {},
     "execution_count": 7
    }
   ],
   "source": [
    "depression_df = depression_data[[\"Entity\", \"Year\", \"DALYs (Disability-Adjusted Life Years) - Depressive disorders - Sex: Both - Age: Under 5 (Rate)\", \"DALYs (Disability-Adjusted Life Years) - Depressive disorders - Sex: Both - Age: 5-14 years (Rate)\", \"DALYs (Disability-Adjusted Life Years) - Depressive disorders - Sex: Both - Age: 15-49 years (Rate)\", \"DALYs (Disability-Adjusted Life Years) - Depressive disorders - Sex: Both - Age: 50-69 years (Rate)\", \"DALYs (Disability-Adjusted Life Years) - Depressive disorders - Sex: Both - Age: 70+ years (Rate)\"]]\n",
    "depression_df.columns = [\"Entity\", \"Year\", \"<5\", \"5-14\", \"15-49\", \"50-69\", \"70+\"]\n",
    "depression_df"
   ]
  },
  {
   "cell_type": "code",
   "execution_count": 8,
   "metadata": {},
   "outputs": [
    {
     "output_type": "execute_result",
     "data": {
      "text/plain": [
       "         Entity_x  Year_x       <5_x      5-14_x     15-49_x     50-69_x  \\\n",
       "0     Afghanistan    1990  10.851451  290.799110  583.050750  453.736877   \n",
       "1     Afghanistan    1991  10.758383  287.732096  582.755568  453.919631   \n",
       "2     Afghanistan    1992  10.387921  284.531098  585.121129  456.690054   \n",
       "3     Afghanistan    1993  10.289752  281.185300  585.995450  459.518593   \n",
       "4     Afghanistan    1994  10.464435  278.113533  587.736708  459.959994   \n",
       "...           ...     ...        ...         ...         ...         ...   \n",
       "6463     Zimbabwe    2013   8.612919  218.803990  366.898089  308.151268   \n",
       "6464     Zimbabwe    2014   8.731586  218.915348  367.400269  307.741827   \n",
       "6465     Zimbabwe    2015   8.646030  218.663565  367.898632  308.310431   \n",
       "6466     Zimbabwe    2016   8.777977  218.323865  368.456731  308.376755   \n",
       "6467     Zimbabwe    2017   8.773549  218.567461  369.090140  308.281666   \n",
       "\n",
       "           70+_x     Entity_y  Year_y      <5_y      5-14_y     15-49_y  \\\n",
       "0     336.764668  Afghanistan    1990  0.271187  171.879841  875.280470   \n",
       "1     336.346214  Afghanistan    1991  0.268624  166.950366  870.018856   \n",
       "2     336.558722  Afghanistan    1992  0.260249  162.987003  859.514720   \n",
       "3     336.870769  Afghanistan    1993  0.258343  159.584534  856.438776   \n",
       "4     337.476586  Afghanistan    1994  0.263607  155.962684  861.397337   \n",
       "...          ...          ...     ...       ...         ...         ...   \n",
       "6463  240.396429     Zimbabwe    2013  0.207890   99.998684  510.320566   \n",
       "6464  239.889862     Zimbabwe    2014  0.208552  100.062666  514.009756   \n",
       "6465  240.390428     Zimbabwe    2015  0.209203   99.655702  518.964077   \n",
       "6466  240.443753     Zimbabwe    2016  0.209759   99.808751  523.691812   \n",
       "6467  240.719008     Zimbabwe    2017  0.210091   99.256370  528.616947   \n",
       "\n",
       "         50-69_y        70+_y  \n",
       "0     950.293471   766.893212  \n",
       "1     950.792194   765.393867  \n",
       "2     954.455355   762.681493  \n",
       "3     957.746985   760.617836  \n",
       "4     958.766015   759.161396  \n",
       "...          ...          ...  \n",
       "6463  896.809679  1175.721573  \n",
       "6464  901.387971  1179.094335  \n",
       "6465  905.877422  1183.005990  \n",
       "6466  911.817819  1185.139894  \n",
       "6467  917.890919  1189.683420  \n",
       "\n",
       "[6468 rows x 14 columns]"
      ],
      "text/html": "<div>\n<style scoped>\n    .dataframe tbody tr th:only-of-type {\n        vertical-align: middle;\n    }\n\n    .dataframe tbody tr th {\n        vertical-align: top;\n    }\n\n    .dataframe thead th {\n        text-align: right;\n    }\n</style>\n<table border=\"1\" class=\"dataframe\">\n  <thead>\n    <tr style=\"text-align: right;\">\n      <th></th>\n      <th>Entity_x</th>\n      <th>Year_x</th>\n      <th>&lt;5_x</th>\n      <th>5-14_x</th>\n      <th>15-49_x</th>\n      <th>50-69_x</th>\n      <th>70+_x</th>\n      <th>Entity_y</th>\n      <th>Year_y</th>\n      <th>&lt;5_y</th>\n      <th>5-14_y</th>\n      <th>15-49_y</th>\n      <th>50-69_y</th>\n      <th>70+_y</th>\n    </tr>\n  </thead>\n  <tbody>\n    <tr>\n      <th>0</th>\n      <td>Afghanistan</td>\n      <td>1990</td>\n      <td>10.851451</td>\n      <td>290.799110</td>\n      <td>583.050750</td>\n      <td>453.736877</td>\n      <td>336.764668</td>\n      <td>Afghanistan</td>\n      <td>1990</td>\n      <td>0.271187</td>\n      <td>171.879841</td>\n      <td>875.280470</td>\n      <td>950.293471</td>\n      <td>766.893212</td>\n    </tr>\n    <tr>\n      <th>1</th>\n      <td>Afghanistan</td>\n      <td>1991</td>\n      <td>10.758383</td>\n      <td>287.732096</td>\n      <td>582.755568</td>\n      <td>453.919631</td>\n      <td>336.346214</td>\n      <td>Afghanistan</td>\n      <td>1991</td>\n      <td>0.268624</td>\n      <td>166.950366</td>\n      <td>870.018856</td>\n      <td>950.792194</td>\n      <td>765.393867</td>\n    </tr>\n    <tr>\n      <th>2</th>\n      <td>Afghanistan</td>\n      <td>1992</td>\n      <td>10.387921</td>\n      <td>284.531098</td>\n      <td>585.121129</td>\n      <td>456.690054</td>\n      <td>336.558722</td>\n      <td>Afghanistan</td>\n      <td>1992</td>\n      <td>0.260249</td>\n      <td>162.987003</td>\n      <td>859.514720</td>\n      <td>954.455355</td>\n      <td>762.681493</td>\n    </tr>\n    <tr>\n      <th>3</th>\n      <td>Afghanistan</td>\n      <td>1993</td>\n      <td>10.289752</td>\n      <td>281.185300</td>\n      <td>585.995450</td>\n      <td>459.518593</td>\n      <td>336.870769</td>\n      <td>Afghanistan</td>\n      <td>1993</td>\n      <td>0.258343</td>\n      <td>159.584534</td>\n      <td>856.438776</td>\n      <td>957.746985</td>\n      <td>760.617836</td>\n    </tr>\n    <tr>\n      <th>4</th>\n      <td>Afghanistan</td>\n      <td>1994</td>\n      <td>10.464435</td>\n      <td>278.113533</td>\n      <td>587.736708</td>\n      <td>459.959994</td>\n      <td>337.476586</td>\n      <td>Afghanistan</td>\n      <td>1994</td>\n      <td>0.263607</td>\n      <td>155.962684</td>\n      <td>861.397337</td>\n      <td>958.766015</td>\n      <td>759.161396</td>\n    </tr>\n    <tr>\n      <th>...</th>\n      <td>...</td>\n      <td>...</td>\n      <td>...</td>\n      <td>...</td>\n      <td>...</td>\n      <td>...</td>\n      <td>...</td>\n      <td>...</td>\n      <td>...</td>\n      <td>...</td>\n      <td>...</td>\n      <td>...</td>\n      <td>...</td>\n      <td>...</td>\n    </tr>\n    <tr>\n      <th>6463</th>\n      <td>Zimbabwe</td>\n      <td>2013</td>\n      <td>8.612919</td>\n      <td>218.803990</td>\n      <td>366.898089</td>\n      <td>308.151268</td>\n      <td>240.396429</td>\n      <td>Zimbabwe</td>\n      <td>2013</td>\n      <td>0.207890</td>\n      <td>99.998684</td>\n      <td>510.320566</td>\n      <td>896.809679</td>\n      <td>1175.721573</td>\n    </tr>\n    <tr>\n      <th>6464</th>\n      <td>Zimbabwe</td>\n      <td>2014</td>\n      <td>8.731586</td>\n      <td>218.915348</td>\n      <td>367.400269</td>\n      <td>307.741827</td>\n      <td>239.889862</td>\n      <td>Zimbabwe</td>\n      <td>2014</td>\n      <td>0.208552</td>\n      <td>100.062666</td>\n      <td>514.009756</td>\n      <td>901.387971</td>\n      <td>1179.094335</td>\n    </tr>\n    <tr>\n      <th>6465</th>\n      <td>Zimbabwe</td>\n      <td>2015</td>\n      <td>8.646030</td>\n      <td>218.663565</td>\n      <td>367.898632</td>\n      <td>308.310431</td>\n      <td>240.390428</td>\n      <td>Zimbabwe</td>\n      <td>2015</td>\n      <td>0.209203</td>\n      <td>99.655702</td>\n      <td>518.964077</td>\n      <td>905.877422</td>\n      <td>1183.005990</td>\n    </tr>\n    <tr>\n      <th>6466</th>\n      <td>Zimbabwe</td>\n      <td>2016</td>\n      <td>8.777977</td>\n      <td>218.323865</td>\n      <td>368.456731</td>\n      <td>308.376755</td>\n      <td>240.443753</td>\n      <td>Zimbabwe</td>\n      <td>2016</td>\n      <td>0.209759</td>\n      <td>99.808751</td>\n      <td>523.691812</td>\n      <td>911.817819</td>\n      <td>1185.139894</td>\n    </tr>\n    <tr>\n      <th>6467</th>\n      <td>Zimbabwe</td>\n      <td>2017</td>\n      <td>8.773549</td>\n      <td>218.567461</td>\n      <td>369.090140</td>\n      <td>308.281666</td>\n      <td>240.719008</td>\n      <td>Zimbabwe</td>\n      <td>2017</td>\n      <td>0.210091</td>\n      <td>99.256370</td>\n      <td>528.616947</td>\n      <td>917.890919</td>\n      <td>1189.683420</td>\n    </tr>\n  </tbody>\n</table>\n<p>6468 rows × 14 columns</p>\n</div>"
     },
     "metadata": {},
     "execution_count": 8
    }
   ],
   "source": [
    "# Combine the data into a single dataset\n",
    "mhdata_combined = anxiety_df.merge(depression_df, left_index=True, right_index=True)\n",
    "mhdata_combined"
   ]
  },
  {
   "cell_type": "code",
   "execution_count": 9,
   "metadata": {},
   "outputs": [
    {
     "output_type": "execute_result",
     "data": {
      "text/plain": [
       "           Entity  Year       A_<5      D_<5      A_5-14      D_5-14  \\\n",
       "0     Afghanistan  1990  10.851451  0.271187  290.799110  171.879841   \n",
       "1     Afghanistan  1991  10.758383  0.268624  287.732096  166.950366   \n",
       "2     Afghanistan  1992  10.387921  0.260249  284.531098  162.987003   \n",
       "3     Afghanistan  1993  10.289752  0.258343  281.185300  159.584534   \n",
       "4     Afghanistan  1994  10.464435  0.263607  278.113533  155.962684   \n",
       "...           ...   ...        ...       ...         ...         ...   \n",
       "6463     Zimbabwe  2013   8.612919  0.207890  218.803990   99.998684   \n",
       "6464     Zimbabwe  2014   8.731586  0.208552  218.915348  100.062666   \n",
       "6465     Zimbabwe  2015   8.646030  0.209203  218.663565   99.655702   \n",
       "6466     Zimbabwe  2016   8.777977  0.209759  218.323865   99.808751   \n",
       "6467     Zimbabwe  2017   8.773549  0.210091  218.567461   99.256370   \n",
       "\n",
       "         A_15-49     D_15-49     A_50-69     D_50-69       A_70+        D_70+  \n",
       "0     583.050750  875.280470  453.736877  950.293471  336.764668   766.893212  \n",
       "1     582.755568  870.018856  453.919631  950.792194  336.346214   765.393867  \n",
       "2     585.121129  859.514720  456.690054  954.455355  336.558722   762.681493  \n",
       "3     585.995450  856.438776  459.518593  957.746985  336.870769   760.617836  \n",
       "4     587.736708  861.397337  459.959994  958.766015  337.476586   759.161396  \n",
       "...          ...         ...         ...         ...         ...          ...  \n",
       "6463  366.898089  510.320566  308.151268  896.809679  240.396429  1175.721573  \n",
       "6464  367.400269  514.009756  307.741827  901.387971  239.889862  1179.094335  \n",
       "6465  367.898632  518.964077  308.310431  905.877422  240.390428  1183.005990  \n",
       "6466  368.456731  523.691812  308.376755  911.817819  240.443753  1185.139894  \n",
       "6467  369.090140  528.616947  308.281666  917.890919  240.719008  1189.683420  \n",
       "\n",
       "[6468 rows x 12 columns]"
      ],
      "text/html": "<div>\n<style scoped>\n    .dataframe tbody tr th:only-of-type {\n        vertical-align: middle;\n    }\n\n    .dataframe tbody tr th {\n        vertical-align: top;\n    }\n\n    .dataframe thead th {\n        text-align: right;\n    }\n</style>\n<table border=\"1\" class=\"dataframe\">\n  <thead>\n    <tr style=\"text-align: right;\">\n      <th></th>\n      <th>Entity</th>\n      <th>Year</th>\n      <th>A_&lt;5</th>\n      <th>D_&lt;5</th>\n      <th>A_5-14</th>\n      <th>D_5-14</th>\n      <th>A_15-49</th>\n      <th>D_15-49</th>\n      <th>A_50-69</th>\n      <th>D_50-69</th>\n      <th>A_70+</th>\n      <th>D_70+</th>\n    </tr>\n  </thead>\n  <tbody>\n    <tr>\n      <th>0</th>\n      <td>Afghanistan</td>\n      <td>1990</td>\n      <td>10.851451</td>\n      <td>0.271187</td>\n      <td>290.799110</td>\n      <td>171.879841</td>\n      <td>583.050750</td>\n      <td>875.280470</td>\n      <td>453.736877</td>\n      <td>950.293471</td>\n      <td>336.764668</td>\n      <td>766.893212</td>\n    </tr>\n    <tr>\n      <th>1</th>\n      <td>Afghanistan</td>\n      <td>1991</td>\n      <td>10.758383</td>\n      <td>0.268624</td>\n      <td>287.732096</td>\n      <td>166.950366</td>\n      <td>582.755568</td>\n      <td>870.018856</td>\n      <td>453.919631</td>\n      <td>950.792194</td>\n      <td>336.346214</td>\n      <td>765.393867</td>\n    </tr>\n    <tr>\n      <th>2</th>\n      <td>Afghanistan</td>\n      <td>1992</td>\n      <td>10.387921</td>\n      <td>0.260249</td>\n      <td>284.531098</td>\n      <td>162.987003</td>\n      <td>585.121129</td>\n      <td>859.514720</td>\n      <td>456.690054</td>\n      <td>954.455355</td>\n      <td>336.558722</td>\n      <td>762.681493</td>\n    </tr>\n    <tr>\n      <th>3</th>\n      <td>Afghanistan</td>\n      <td>1993</td>\n      <td>10.289752</td>\n      <td>0.258343</td>\n      <td>281.185300</td>\n      <td>159.584534</td>\n      <td>585.995450</td>\n      <td>856.438776</td>\n      <td>459.518593</td>\n      <td>957.746985</td>\n      <td>336.870769</td>\n      <td>760.617836</td>\n    </tr>\n    <tr>\n      <th>4</th>\n      <td>Afghanistan</td>\n      <td>1994</td>\n      <td>10.464435</td>\n      <td>0.263607</td>\n      <td>278.113533</td>\n      <td>155.962684</td>\n      <td>587.736708</td>\n      <td>861.397337</td>\n      <td>459.959994</td>\n      <td>958.766015</td>\n      <td>337.476586</td>\n      <td>759.161396</td>\n    </tr>\n    <tr>\n      <th>...</th>\n      <td>...</td>\n      <td>...</td>\n      <td>...</td>\n      <td>...</td>\n      <td>...</td>\n      <td>...</td>\n      <td>...</td>\n      <td>...</td>\n      <td>...</td>\n      <td>...</td>\n      <td>...</td>\n      <td>...</td>\n    </tr>\n    <tr>\n      <th>6463</th>\n      <td>Zimbabwe</td>\n      <td>2013</td>\n      <td>8.612919</td>\n      <td>0.207890</td>\n      <td>218.803990</td>\n      <td>99.998684</td>\n      <td>366.898089</td>\n      <td>510.320566</td>\n      <td>308.151268</td>\n      <td>896.809679</td>\n      <td>240.396429</td>\n      <td>1175.721573</td>\n    </tr>\n    <tr>\n      <th>6464</th>\n      <td>Zimbabwe</td>\n      <td>2014</td>\n      <td>8.731586</td>\n      <td>0.208552</td>\n      <td>218.915348</td>\n      <td>100.062666</td>\n      <td>367.400269</td>\n      <td>514.009756</td>\n      <td>307.741827</td>\n      <td>901.387971</td>\n      <td>239.889862</td>\n      <td>1179.094335</td>\n    </tr>\n    <tr>\n      <th>6465</th>\n      <td>Zimbabwe</td>\n      <td>2015</td>\n      <td>8.646030</td>\n      <td>0.209203</td>\n      <td>218.663565</td>\n      <td>99.655702</td>\n      <td>367.898632</td>\n      <td>518.964077</td>\n      <td>308.310431</td>\n      <td>905.877422</td>\n      <td>240.390428</td>\n      <td>1183.005990</td>\n    </tr>\n    <tr>\n      <th>6466</th>\n      <td>Zimbabwe</td>\n      <td>2016</td>\n      <td>8.777977</td>\n      <td>0.209759</td>\n      <td>218.323865</td>\n      <td>99.808751</td>\n      <td>368.456731</td>\n      <td>523.691812</td>\n      <td>308.376755</td>\n      <td>911.817819</td>\n      <td>240.443753</td>\n      <td>1185.139894</td>\n    </tr>\n    <tr>\n      <th>6467</th>\n      <td>Zimbabwe</td>\n      <td>2017</td>\n      <td>8.773549</td>\n      <td>0.210091</td>\n      <td>218.567461</td>\n      <td>99.256370</td>\n      <td>369.090140</td>\n      <td>528.616947</td>\n      <td>308.281666</td>\n      <td>917.890919</td>\n      <td>240.719008</td>\n      <td>1189.683420</td>\n    </tr>\n  </tbody>\n</table>\n<p>6468 rows × 12 columns</p>\n</div>"
     },
     "metadata": {},
     "execution_count": 9
    }
   ],
   "source": [
    "# Drop duplicate index columns, reoder and rename to display anxiety and depression side by side by age \n",
    "mhdata_combined_df = mhdata_combined[[\"Entity_x\", \"Year_x\", \"<5_x\", \"<5_y\", \"5-14_x\", \"5-14_y\", \"15-49_x\", \"15-49_y\", \"50-69_x\", \"50-69_y\", \"70+_x\", \"70+_y\"]]\n",
    "mhdata_combined_df.columns = [\"Entity\", \"Year\", \"A_<5\", \"D_<5\", \"A_5-14\", \"D_5-14\", \"A_15-49\", \"D_15-49\", \"A_50-69\", \"D_50-69\", \"A_70+\", \"D_70+\"]\n",
    "mhdata_combined_df"
   ]
  },
  {
   "cell_type": "code",
   "execution_count": 10,
   "metadata": {},
   "outputs": [
    {
     "output_type": "execute_result",
     "data": {
      "text/plain": [
       "array(['Afghanistan', 'Albania', 'Algeria', 'American Samoa',\n",
       "       'Andean Latin America', 'Andorra', 'Angola', 'Antigua and Barbuda',\n",
       "       'Argentina', 'Armenia', 'Australasia', 'Australia', 'Austria',\n",
       "       'Azerbaijan', 'Bahamas', 'Bahrain', 'Bangladesh', 'Barbados',\n",
       "       'Belarus', 'Belgium', 'Belize', 'Benin', 'Bermuda', 'Bhutan',\n",
       "       'Bolivia', 'Bosnia and Herzegovina', 'Botswana', 'Brazil',\n",
       "       'Brunei', 'Bulgaria', 'Burkina Faso', 'Burundi', 'Cambodia',\n",
       "       'Cameroon', 'Canada', 'Cape Verde', 'Caribbean',\n",
       "       'Central African Republic', 'Central Asia', 'Central Europe',\n",
       "       'Central Europe, Eastern Europe, and Central Asia',\n",
       "       'Central Latin America', 'Central Sub-Saharan Africa', 'Chad',\n",
       "       'Chile', 'China', 'Colombia', 'Comoros', 'Congo', 'Costa Rica',\n",
       "       \"Cote d'Ivoire\", 'Croatia', 'Cuba', 'Cyprus', 'Czechia',\n",
       "       'Democratic Republic of Congo', 'Denmark', 'Djibouti', 'Dominica',\n",
       "       'Dominican Republic', 'East Asia', 'Eastern Europe',\n",
       "       'Eastern Sub-Saharan Africa', 'Ecuador', 'Egypt', 'El Salvador',\n",
       "       'England', 'Equatorial Guinea', 'Eritrea', 'Estonia', 'Eswatini',\n",
       "       'Ethiopia', 'Fiji', 'Finland', 'France', 'Gabon', 'Gambia',\n",
       "       'Georgia', 'Germany', 'Ghana', 'Greece', 'Greenland', 'Grenada',\n",
       "       'Guam', 'Guatemala', 'Guinea', 'Guinea-Bissau', 'Guyana', 'Haiti',\n",
       "       'High SDI', 'High-income', 'High-income Asia Pacific',\n",
       "       'High-middle SDI', 'Honduras', 'Hungary', 'Iceland', 'India',\n",
       "       'Indonesia', 'Iran', 'Iraq', 'Ireland', 'Israel', 'Italy',\n",
       "       'Jamaica', 'Japan', 'Jordan', 'Kazakhstan', 'Kenya', 'Kiribati',\n",
       "       'Kuwait', 'Kyrgyzstan', 'Laos', 'Latin America and Caribbean',\n",
       "       'Latvia', 'Lebanon', 'Lesotho', 'Liberia', 'Libya', 'Lithuania',\n",
       "       'Low SDI', 'Low-middle SDI', 'Luxembourg', 'Madagascar', 'Malawi',\n",
       "       'Malaysia', 'Maldives', 'Mali', 'Malta', 'Marshall Islands',\n",
       "       'Mauritania', 'Mauritius', 'Mexico', 'Micronesia (country)',\n",
       "       'Middle SDI', 'Moldova', 'Mongolia', 'Montenegro', 'Morocco',\n",
       "       'Mozambique', 'Myanmar', 'Namibia', 'Nepal', 'Netherlands',\n",
       "       'New Zealand', 'Nicaragua', 'Niger', 'Nigeria',\n",
       "       'North Africa and Middle East', 'North America', 'North Korea',\n",
       "       'North Macedonia', 'Northern Ireland', 'Northern Mariana Islands',\n",
       "       'Norway', 'Oceania', 'Oman', 'Pakistan', 'Palestine', 'Panama',\n",
       "       'Papua New Guinea', 'Paraguay', 'Peru', 'Philippines', 'Poland',\n",
       "       'Portugal', 'Puerto Rico', 'Qatar', 'Romania', 'Russia', 'Rwanda',\n",
       "       'Saint Lucia', 'Saint Vincent and the Grenadines', 'Samoa',\n",
       "       'Sao Tome and Principe', 'Saudi Arabia', 'Scotland', 'Senegal',\n",
       "       'Serbia', 'Seychelles', 'Sierra Leone', 'Singapore', 'Slovakia',\n",
       "       'Slovenia', 'Solomon Islands', 'Somalia', 'South Africa',\n",
       "       'South Asia', 'South Korea', 'South Sudan', 'Southeast Asia',\n",
       "       'Southeast Asia, East Asia, and Oceania', 'Southern Latin America',\n",
       "       'Southern Sub-Saharan Africa', 'Spain', 'Sri Lanka',\n",
       "       'Sub-Saharan Africa', 'Sudan', 'Suriname', 'Sweden', 'Switzerland',\n",
       "       'Syria', 'Taiwan', 'Tajikistan', 'Tanzania', 'Thailand', 'Timor',\n",
       "       'Togo', 'Tonga', 'Trinidad and Tobago', 'Tropical Latin America',\n",
       "       'Tunisia', 'Turkey', 'Turkmenistan', 'Uganda', 'Ukraine',\n",
       "       'United Arab Emirates', 'United Kingdom', 'United States',\n",
       "       'United States Virgin Islands', 'Uruguay', 'Uzbekistan', 'Vanuatu',\n",
       "       'Venezuela', 'Vietnam', 'Wales', 'Western Europe',\n",
       "       'Western Sub-Saharan Africa', 'World', 'Yemen', 'Zambia',\n",
       "       'Zimbabwe'], dtype=object)"
      ]
     },
     "metadata": {},
     "execution_count": 10
    }
   ],
   "source": [
    "mhdata_combined_df['Entity'].unique()"
   ]
  },
  {
   "cell_type": "code",
   "execution_count": 11,
   "metadata": {},
   "outputs": [],
   "source": [
    "# Count number of countries to confirm all countries have all the years (1990 - 2017). 6468 / 28\n",
    "mhdata_country_count = mhdata_combined_df.groupby(\"Entity\").count()\n",
    "# mhdata_country_count"
   ]
  },
  {
   "cell_type": "code",
   "execution_count": 12,
   "metadata": {},
   "outputs": [],
   "source": [
    "# Create a sub-set data from 2007 to 2017 (10 years of data)\n",
    "tenyears_df = mhdata_combined_df.loc[mhdata_combined_df['Year'] > 2007]\n",
    "# tenyears_df"
   ]
  },
  {
   "source": [
    "# Test Machine Learning Predictions with subset of data"
   ],
   "cell_type": "markdown",
   "metadata": {}
  },
  {
   "cell_type": "code",
   "execution_count": 13,
   "metadata": {},
   "outputs": [],
   "source": [
    "# Dependencies\n",
    "from matplotlib import pyplot as plt\n",
    "from scipy import stats\n",
    "import numpy as np\n",
    "\n",
    "from sklearn.linear_model import LinearRegression\n",
    "from sklearn.metrics import mean_squared_error, r2_score"
   ]
  },
  {
   "cell_type": "code",
   "execution_count": null,
   "metadata": {},
   "outputs": [],
   "source": [
    "# # Test on a subset of data\n",
    "\n",
    "# afghanistan = tenyears_df.loc[tenyears_df['Entity'] == 'Afghanistan', :]\n",
    "\n",
    "# afghanistan_subset = afghanistan.loc[:, ['Entity', 'Year', 'A_<5']]\n",
    "# afghanistan_subset\n",
    "\n",
    "# year = afghanistan_subset.iloc[: ,1]\n",
    "# # year\n",
    "# anxiety_less_than_five = afghanistan_subset.iloc[: ,2]\n",
    "# # anxiety_less_than_five\n",
    "\n",
    "# plt.scatter(year, anxiety_less_than_five)\n",
    "# plt.xticks(year, rotation=90)\n",
    "# plt.xlabel('Year')\n",
    "# plt.ylabel('Anxiety <5 Years Old')\n",
    "# plt.show()"
   ]
  },
  {
   "cell_type": "code",
   "execution_count": null,
   "metadata": {},
   "outputs": [],
   "source": [
    "# # perform the linear regression\n",
    "# a_slope, a_int, a_r, a_p, a_std_err = stats.linregress(year, anxiety_less_than_five)\n",
    "\n",
    "# # create equation to calculate predicted anxiety\n",
    "# a_fit = a_slope * year + a_int\n",
    "\n",
    "# # plot the line on top of the scatter plot above\n",
    "# plt.scatter(year, anxiety_less_than_five)\n",
    "# plt.plot(year, a_fit, \"--\")\n",
    "# plt.xticks(year, rotation=90)\n",
    "# plt.xlabel('Year')\n",
    "# plt.ylabel('Anxiety <5 Years Old')\n",
    "# plt.show()"
   ]
  },
  {
   "cell_type": "code",
   "execution_count": null,
   "metadata": {},
   "outputs": [],
   "source": [
    "# Deploy ML - Test on a small subset\n",
    "\n",
    "# # from sklearn.linear_model import LinearRegression\n",
    "# model = LinearRegression()\n",
    "\n",
    "# # -----------------------------------------------------------\n",
    "# # Run subset test data\n",
    "# afghanistan = tenyears_df.loc[tenyears_df['Entity'] == 'Afghanistan', :]\n",
    "\n",
    "# afghanistan_subset = afghanistan.loc[:, ['Entity', 'Year', 'A_<5']]\n",
    "# afghanistan_subset\n",
    "\n",
    "# year = afghanistan_subset.iloc[: ,1]\n",
    "# # year\n",
    "# anxiety_less_than_five = afghanistan_subset.iloc[: ,2]\n",
    "# # anxiety_less_than_five\n",
    "\n",
    "# # Reshape data \n",
    "# X = year.values.reshape(-1,1)\n",
    "# y = anxiety_less_than_five.values.reshape(-1,1)\n",
    "\n",
    "# print(\"Shape: \", X.shape, y.shape)\n",
    "# # X\n",
    "# # y\n",
    "\n",
    "# # plt.scatter(X, y)\n",
    "\n",
    "# # -----------------------------------------------------------\n",
    "# # Run model, fit X and y to model\n",
    "# model.fit(X, y)\n",
    "# print(model)\n",
    "# # Output ---> LinearRegression()\n",
    "\n",
    "# # Print the coefficient and the intercept for the model \n",
    "# print('Weight coefficients: ', model.coef_)\n",
    "# print('y-axis intercept: ', model.intercept_)\n",
    "\n",
    "# # -----------------------------------------------------------\n",
    "# # Use our model to predict a value\n",
    "# # predicted = model.predict(X)\n",
    "\n",
    "# print(\"Results for future years: \", model.predict([[2018], [2019], [2020], [2021]]))\n",
    "\n",
    "# # Save predicted values into a variable\n",
    "# forecast_data = model.predict([[2018], [2019], [2020], [2021]])\n",
    "\n",
    "# # CHECK\n",
    "# forecast_data\n",
    "\n",
    "# # OUTPUT is an array\n",
    "# # # array([[11.12777626],\n",
    "# # #        [11.12511246],\n",
    "# # #        [11.12244866],\n",
    "# # #        [11.11978486]])\n",
    "\n",
    "# # Convert output into a dataframe\n",
    "# forecast_df = pd.DataFrame(forecast_data, columns=['A_<5'])\n",
    "\n",
    "# # Create the future years datafram\n",
    "# future_years = pd.DataFrame({'Entity': ['Afghanistan','Afghanistan','Afghanistan','Afghanistan'],'Year': [2018, 2019, 2020, 2021]})\n",
    "\n",
    "# # Concat the two dataframes together\n",
    "# result = pd.concat([future_years, forecast_df], axis=1)\n",
    "# result\n",
    "\n",
    "# # Append concat dataframe to main dataframe\n",
    "# afghanistan_subset = afghanistan_subset.append(result, ignore_index=True)\n",
    "\n",
    "# # CHECK results\n",
    "# plt.scatter(X, y)\n",
    "# afghanistan_subset\n",
    "\n",
    "# # -----------------------------------------------------------\n",
    "# # Score the prediction with mse and r2\n",
    "# # mse = mean_squared_error(y, predicted)\n",
    "# # r2 = r2_score(y, predicted)\n",
    "\n",
    "# # print(f\"Mean Squared Error (MSE): {mse}\")\n",
    "# # print(f\"R-squared (R2 ): {r2}\")\n",
    "\n",
    "# # print(\"Model score:\", model.score(X, y))"
   ]
  },
  {
   "source": [
    "# For loop to run ML on countries and all age ranges"
   ],
   "cell_type": "markdown",
   "metadata": {}
  },
  {
   "cell_type": "code",
   "execution_count": 56,
   "metadata": {
    "tags": []
   },
   "outputs": [],
   "source": [
    "# Testing country for loop\n",
    "for country in tenyears_df['Entity'].unique():\n",
    "    groupby_country = tenyears_df.groupby('Entity')\n",
    "    country_df = groupby_country.get_group(country)\n",
    "    # print(country_df.head())"
   ]
  },
  {
   "cell_type": "code",
   "execution_count": 57,
   "metadata": {
    "tags": []
   },
   "outputs": [],
   "source": [
    "# Foor loop to predict future years for countries and across age groups\n",
    "\n",
    "# -----------------------------------------------------------\n",
    "# Grab subset data\n",
    "\n",
    "## All countries data in the last ten years\n",
    "# tenyears_df\n",
    "\n",
    "# -----------------------------------------------------------\n",
    "\n",
    "# Create empty dataframe to store the Country loop results\n",
    "tenyears_predictions_df = pd.DataFrame()\n",
    "\n",
    "# Dictionary to save forecasted data from ML prediction forecast\n",
    "forecast_data_all = {}\n",
    "\n",
    "# Run for Country loop to go through all countries \n",
    "\n",
    "for country in tenyears_df['Entity'].unique():\n",
    "    # country_names = tenyears_df['Entity'].unique()\n",
    "\n",
    "    groupby_country = tenyears_df.groupby('Entity')\n",
    "    country_df = groupby_country.get_group(country)\n",
    "    # forecast_data_all[country] = {}\n",
    "\n",
    "    # Run for ML Column loop to go through all countries columns for anxiety and depression across all age range\n",
    "\n",
    "    for column in tenyears_df.iloc[:, 2:]: \n",
    "\n",
    "        X = country_df['Year']\n",
    "        y = country_df[column]\n",
    "\n",
    "        X1 = X.values.reshape(-1,1)\n",
    "        y1 = y.values.reshape(-1,1)\n",
    "\n",
    "        # plt.scatter(X1,y1)\n",
    "        \n",
    "        # Run model, fit X1 and y1 to model\n",
    "        model = LinearRegression()\n",
    "        model.fit(X1, y1)\n",
    "        \n",
    "        # CHECK results\n",
    "        # print(\"Results for future years: \", \n",
    "        #     country, model.predict([[2018],[2019],[2020],[2021]]))\n",
    "        \n",
    "        # Append results into dictionary 'forecast_data_afg' above\n",
    "        forecast_data_all[column] = list(np.array(model.predict([[2018],[2019],[2020],[2021]])).flatten())\n",
    "\n",
    "        # forecast_data_all[country][column] = np.array(model.predict([[2018],[2019],[2020],[2021]])).flatten()\n",
    "\n",
    "        # CHECK that results have been appended\n",
    "        forecast_data_all\n",
    "\n",
    "        # Convert into a dataframe\n",
    "        forecast_df_for_one_country = pd.DataFrame.from_dict(forecast_data_all)\n",
    "\n",
    "        # Create columns for country and year in empty dataframe\n",
    "        forecast_df_for_one_country['Entity'] = country\n",
    "        forecast_df_for_one_country['Year'] = [2018, 2019, 2020, 2021]\n",
    "\n",
    "        # -----------------------------------------------------------\n",
    "\n",
    "    # Append forecast results to dataframe\n",
    "    tenyears_predictions_df = tenyears_predictions_df.append(forecast_df_for_one_country, ignore_index=True)\n"
   ]
  },
  {
   "cell_type": "code",
   "execution_count": 58,
   "metadata": {},
   "outputs": [
    {
     "output_type": "execute_result",
     "data": {
      "text/plain": [
       "          A_<5      D_<5      A_5-14      D_5-14     A_15-49     D_15-49  \\\n",
       "0    11.127776  0.275821  288.232133  163.904792  588.485399  890.804937   \n",
       "1    11.125112  0.275743  288.567617  164.291874  588.345278  888.143142   \n",
       "2    11.122449  0.275665  288.903100  164.678955  588.205158  885.481348   \n",
       "3    11.119785  0.275587  289.238583  165.066037  588.065037  882.819554   \n",
       "4     8.571914  0.195158  227.948431   90.087602  377.696367  397.024391   \n",
       "..         ...       ...         ...         ...         ...         ...   \n",
       "919   9.386978  0.229947  238.966593  137.099732  434.784591  649.941337   \n",
       "920   8.738135  0.210190  218.491051   99.486992  368.957892  528.442407   \n",
       "921   8.744523  0.210570  218.440679   99.398863  369.267349  531.576673   \n",
       "922   8.750911  0.210949  218.390307   99.310733  369.576807  534.710939   \n",
       "923   8.757299  0.211329  218.339936   99.222604  369.886265  537.845205   \n",
       "\n",
       "        A_50-69      D_50-69       A_70+        D_70+       Entity  Year  \n",
       "0    481.877094   991.277419  351.207070   777.572415  Afghanistan  2018  \n",
       "1    484.357632   995.600237  351.948856   779.084142  Afghanistan  2019  \n",
       "2    486.838171   999.923054  352.690643   780.595869  Afghanistan  2020  \n",
       "3    489.318709  1004.245872  353.432429   782.107595  Afghanistan  2021  \n",
       "4    385.032305   548.077017  328.666265   652.806863      Albania  2018  \n",
       "..          ...          ...         ...          ...          ...   ...  \n",
       "919  381.216731  1132.202067  314.587644  1312.748514       Zambia  2021  \n",
       "920  308.097563   919.193425  240.649881  1190.512380     Zimbabwe  2018  \n",
       "921  308.050619   923.421133  240.753093  1193.162336     Zimbabwe  2019  \n",
       "922  308.003675   927.648841  240.856305  1195.812293     Zimbabwe  2020  \n",
       "923  307.956730   931.876550  240.959516  1198.462249     Zimbabwe  2021  \n",
       "\n",
       "[924 rows x 12 columns]"
      ],
      "text/html": "<div>\n<style scoped>\n    .dataframe tbody tr th:only-of-type {\n        vertical-align: middle;\n    }\n\n    .dataframe tbody tr th {\n        vertical-align: top;\n    }\n\n    .dataframe thead th {\n        text-align: right;\n    }\n</style>\n<table border=\"1\" class=\"dataframe\">\n  <thead>\n    <tr style=\"text-align: right;\">\n      <th></th>\n      <th>A_&lt;5</th>\n      <th>D_&lt;5</th>\n      <th>A_5-14</th>\n      <th>D_5-14</th>\n      <th>A_15-49</th>\n      <th>D_15-49</th>\n      <th>A_50-69</th>\n      <th>D_50-69</th>\n      <th>A_70+</th>\n      <th>D_70+</th>\n      <th>Entity</th>\n      <th>Year</th>\n    </tr>\n  </thead>\n  <tbody>\n    <tr>\n      <th>0</th>\n      <td>11.127776</td>\n      <td>0.275821</td>\n      <td>288.232133</td>\n      <td>163.904792</td>\n      <td>588.485399</td>\n      <td>890.804937</td>\n      <td>481.877094</td>\n      <td>991.277419</td>\n      <td>351.207070</td>\n      <td>777.572415</td>\n      <td>Afghanistan</td>\n      <td>2018</td>\n    </tr>\n    <tr>\n      <th>1</th>\n      <td>11.125112</td>\n      <td>0.275743</td>\n      <td>288.567617</td>\n      <td>164.291874</td>\n      <td>588.345278</td>\n      <td>888.143142</td>\n      <td>484.357632</td>\n      <td>995.600237</td>\n      <td>351.948856</td>\n      <td>779.084142</td>\n      <td>Afghanistan</td>\n      <td>2019</td>\n    </tr>\n    <tr>\n      <th>2</th>\n      <td>11.122449</td>\n      <td>0.275665</td>\n      <td>288.903100</td>\n      <td>164.678955</td>\n      <td>588.205158</td>\n      <td>885.481348</td>\n      <td>486.838171</td>\n      <td>999.923054</td>\n      <td>352.690643</td>\n      <td>780.595869</td>\n      <td>Afghanistan</td>\n      <td>2020</td>\n    </tr>\n    <tr>\n      <th>3</th>\n      <td>11.119785</td>\n      <td>0.275587</td>\n      <td>289.238583</td>\n      <td>165.066037</td>\n      <td>588.065037</td>\n      <td>882.819554</td>\n      <td>489.318709</td>\n      <td>1004.245872</td>\n      <td>353.432429</td>\n      <td>782.107595</td>\n      <td>Afghanistan</td>\n      <td>2021</td>\n    </tr>\n    <tr>\n      <th>4</th>\n      <td>8.571914</td>\n      <td>0.195158</td>\n      <td>227.948431</td>\n      <td>90.087602</td>\n      <td>377.696367</td>\n      <td>397.024391</td>\n      <td>385.032305</td>\n      <td>548.077017</td>\n      <td>328.666265</td>\n      <td>652.806863</td>\n      <td>Albania</td>\n      <td>2018</td>\n    </tr>\n    <tr>\n      <th>...</th>\n      <td>...</td>\n      <td>...</td>\n      <td>...</td>\n      <td>...</td>\n      <td>...</td>\n      <td>...</td>\n      <td>...</td>\n      <td>...</td>\n      <td>...</td>\n      <td>...</td>\n      <td>...</td>\n      <td>...</td>\n    </tr>\n    <tr>\n      <th>919</th>\n      <td>9.386978</td>\n      <td>0.229947</td>\n      <td>238.966593</td>\n      <td>137.099732</td>\n      <td>434.784591</td>\n      <td>649.941337</td>\n      <td>381.216731</td>\n      <td>1132.202067</td>\n      <td>314.587644</td>\n      <td>1312.748514</td>\n      <td>Zambia</td>\n      <td>2021</td>\n    </tr>\n    <tr>\n      <th>920</th>\n      <td>8.738135</td>\n      <td>0.210190</td>\n      <td>218.491051</td>\n      <td>99.486992</td>\n      <td>368.957892</td>\n      <td>528.442407</td>\n      <td>308.097563</td>\n      <td>919.193425</td>\n      <td>240.649881</td>\n      <td>1190.512380</td>\n      <td>Zimbabwe</td>\n      <td>2018</td>\n    </tr>\n    <tr>\n      <th>921</th>\n      <td>8.744523</td>\n      <td>0.210570</td>\n      <td>218.440679</td>\n      <td>99.398863</td>\n      <td>369.267349</td>\n      <td>531.576673</td>\n      <td>308.050619</td>\n      <td>923.421133</td>\n      <td>240.753093</td>\n      <td>1193.162336</td>\n      <td>Zimbabwe</td>\n      <td>2019</td>\n    </tr>\n    <tr>\n      <th>922</th>\n      <td>8.750911</td>\n      <td>0.210949</td>\n      <td>218.390307</td>\n      <td>99.310733</td>\n      <td>369.576807</td>\n      <td>534.710939</td>\n      <td>308.003675</td>\n      <td>927.648841</td>\n      <td>240.856305</td>\n      <td>1195.812293</td>\n      <td>Zimbabwe</td>\n      <td>2020</td>\n    </tr>\n    <tr>\n      <th>923</th>\n      <td>8.757299</td>\n      <td>0.211329</td>\n      <td>218.339936</td>\n      <td>99.222604</td>\n      <td>369.886265</td>\n      <td>537.845205</td>\n      <td>307.956730</td>\n      <td>931.876550</td>\n      <td>240.959516</td>\n      <td>1198.462249</td>\n      <td>Zimbabwe</td>\n      <td>2021</td>\n    </tr>\n  </tbody>\n</table>\n<p>924 rows × 12 columns</p>\n</div>"
     },
     "metadata": {},
     "execution_count": 58
    }
   ],
   "source": [
    "tenyears_predictions_df"
   ]
  },
  {
   "source": [
    "# Clean the new dataframe with predicted results"
   ],
   "cell_type": "markdown",
   "metadata": {}
  },
  {
   "cell_type": "code",
   "execution_count": 61,
   "metadata": {},
   "outputs": [
    {
     "output_type": "execute_result",
     "data": {
      "text/plain": [
       "          Entity  Year       A_<5      D_<5      A_5-14      D_5-14  \\\n",
       "0    Afghanistan  2018  11.127776  0.275821  288.232133  163.904792   \n",
       "1    Afghanistan  2019  11.125112  0.275743  288.567617  164.291874   \n",
       "2    Afghanistan  2020  11.122449  0.275665  288.903100  164.678955   \n",
       "3    Afghanistan  2021  11.119785  0.275587  289.238583  165.066037   \n",
       "4        Albania  2018   8.571914  0.195158  227.948431   90.087602   \n",
       "..           ...   ...        ...       ...         ...         ...   \n",
       "919       Zambia  2021   9.386978  0.229947  238.966593  137.099732   \n",
       "920     Zimbabwe  2018   8.738135  0.210190  218.491051   99.486992   \n",
       "921     Zimbabwe  2019   8.744523  0.210570  218.440679   99.398863   \n",
       "922     Zimbabwe  2020   8.750911  0.210949  218.390307   99.310733   \n",
       "923     Zimbabwe  2021   8.757299  0.211329  218.339936   99.222604   \n",
       "\n",
       "        A_15-49     D_15-49     A_50-69      D_50-69       A_70+        D_70+  \n",
       "0    588.485399  890.804937  481.877094   991.277419  351.207070   777.572415  \n",
       "1    588.345278  888.143142  484.357632   995.600237  351.948856   779.084142  \n",
       "2    588.205158  885.481348  486.838171   999.923054  352.690643   780.595869  \n",
       "3    588.065037  882.819554  489.318709  1004.245872  353.432429   782.107595  \n",
       "4    377.696367  397.024391  385.032305   548.077017  328.666265   652.806863  \n",
       "..          ...         ...         ...          ...         ...          ...  \n",
       "919  434.784591  649.941337  381.216731  1132.202067  314.587644  1312.748514  \n",
       "920  368.957892  528.442407  308.097563   919.193425  240.649881  1190.512380  \n",
       "921  369.267349  531.576673  308.050619   923.421133  240.753093  1193.162336  \n",
       "922  369.576807  534.710939  308.003675   927.648841  240.856305  1195.812293  \n",
       "923  369.886265  537.845205  307.956730   931.876550  240.959516  1198.462249  \n",
       "\n",
       "[924 rows x 12 columns]"
      ],
      "text/html": "<div>\n<style scoped>\n    .dataframe tbody tr th:only-of-type {\n        vertical-align: middle;\n    }\n\n    .dataframe tbody tr th {\n        vertical-align: top;\n    }\n\n    .dataframe thead th {\n        text-align: right;\n    }\n</style>\n<table border=\"1\" class=\"dataframe\">\n  <thead>\n    <tr style=\"text-align: right;\">\n      <th></th>\n      <th>Entity</th>\n      <th>Year</th>\n      <th>A_&lt;5</th>\n      <th>D_&lt;5</th>\n      <th>A_5-14</th>\n      <th>D_5-14</th>\n      <th>A_15-49</th>\n      <th>D_15-49</th>\n      <th>A_50-69</th>\n      <th>D_50-69</th>\n      <th>A_70+</th>\n      <th>D_70+</th>\n    </tr>\n  </thead>\n  <tbody>\n    <tr>\n      <th>0</th>\n      <td>Afghanistan</td>\n      <td>2018</td>\n      <td>11.127776</td>\n      <td>0.275821</td>\n      <td>288.232133</td>\n      <td>163.904792</td>\n      <td>588.485399</td>\n      <td>890.804937</td>\n      <td>481.877094</td>\n      <td>991.277419</td>\n      <td>351.207070</td>\n      <td>777.572415</td>\n    </tr>\n    <tr>\n      <th>1</th>\n      <td>Afghanistan</td>\n      <td>2019</td>\n      <td>11.125112</td>\n      <td>0.275743</td>\n      <td>288.567617</td>\n      <td>164.291874</td>\n      <td>588.345278</td>\n      <td>888.143142</td>\n      <td>484.357632</td>\n      <td>995.600237</td>\n      <td>351.948856</td>\n      <td>779.084142</td>\n    </tr>\n    <tr>\n      <th>2</th>\n      <td>Afghanistan</td>\n      <td>2020</td>\n      <td>11.122449</td>\n      <td>0.275665</td>\n      <td>288.903100</td>\n      <td>164.678955</td>\n      <td>588.205158</td>\n      <td>885.481348</td>\n      <td>486.838171</td>\n      <td>999.923054</td>\n      <td>352.690643</td>\n      <td>780.595869</td>\n    </tr>\n    <tr>\n      <th>3</th>\n      <td>Afghanistan</td>\n      <td>2021</td>\n      <td>11.119785</td>\n      <td>0.275587</td>\n      <td>289.238583</td>\n      <td>165.066037</td>\n      <td>588.065037</td>\n      <td>882.819554</td>\n      <td>489.318709</td>\n      <td>1004.245872</td>\n      <td>353.432429</td>\n      <td>782.107595</td>\n    </tr>\n    <tr>\n      <th>4</th>\n      <td>Albania</td>\n      <td>2018</td>\n      <td>8.571914</td>\n      <td>0.195158</td>\n      <td>227.948431</td>\n      <td>90.087602</td>\n      <td>377.696367</td>\n      <td>397.024391</td>\n      <td>385.032305</td>\n      <td>548.077017</td>\n      <td>328.666265</td>\n      <td>652.806863</td>\n    </tr>\n    <tr>\n      <th>...</th>\n      <td>...</td>\n      <td>...</td>\n      <td>...</td>\n      <td>...</td>\n      <td>...</td>\n      <td>...</td>\n      <td>...</td>\n      <td>...</td>\n      <td>...</td>\n      <td>...</td>\n      <td>...</td>\n      <td>...</td>\n    </tr>\n    <tr>\n      <th>919</th>\n      <td>Zambia</td>\n      <td>2021</td>\n      <td>9.386978</td>\n      <td>0.229947</td>\n      <td>238.966593</td>\n      <td>137.099732</td>\n      <td>434.784591</td>\n      <td>649.941337</td>\n      <td>381.216731</td>\n      <td>1132.202067</td>\n      <td>314.587644</td>\n      <td>1312.748514</td>\n    </tr>\n    <tr>\n      <th>920</th>\n      <td>Zimbabwe</td>\n      <td>2018</td>\n      <td>8.738135</td>\n      <td>0.210190</td>\n      <td>218.491051</td>\n      <td>99.486992</td>\n      <td>368.957892</td>\n      <td>528.442407</td>\n      <td>308.097563</td>\n      <td>919.193425</td>\n      <td>240.649881</td>\n      <td>1190.512380</td>\n    </tr>\n    <tr>\n      <th>921</th>\n      <td>Zimbabwe</td>\n      <td>2019</td>\n      <td>8.744523</td>\n      <td>0.210570</td>\n      <td>218.440679</td>\n      <td>99.398863</td>\n      <td>369.267349</td>\n      <td>531.576673</td>\n      <td>308.050619</td>\n      <td>923.421133</td>\n      <td>240.753093</td>\n      <td>1193.162336</td>\n    </tr>\n    <tr>\n      <th>922</th>\n      <td>Zimbabwe</td>\n      <td>2020</td>\n      <td>8.750911</td>\n      <td>0.210949</td>\n      <td>218.390307</td>\n      <td>99.310733</td>\n      <td>369.576807</td>\n      <td>534.710939</td>\n      <td>308.003675</td>\n      <td>927.648841</td>\n      <td>240.856305</td>\n      <td>1195.812293</td>\n    </tr>\n    <tr>\n      <th>923</th>\n      <td>Zimbabwe</td>\n      <td>2021</td>\n      <td>8.757299</td>\n      <td>0.211329</td>\n      <td>218.339936</td>\n      <td>99.222604</td>\n      <td>369.886265</td>\n      <td>537.845205</td>\n      <td>307.956730</td>\n      <td>931.876550</td>\n      <td>240.959516</td>\n      <td>1198.462249</td>\n    </tr>\n  </tbody>\n</table>\n<p>924 rows × 12 columns</p>\n</div>"
     },
     "metadata": {},
     "execution_count": 61
    }
   ],
   "source": [
    "# Get columns from tenyears_df.columns\n",
    "tenyears_df.columns\n",
    "\n",
    "# Index(['Entity', 'Year', 'A_<5', 'D_<5', 'A_5-14', 'D_5-14', 'A_15-49', 'D_15-49', 'A_50-69', 'D_50-69', 'A_70+', 'D_70+'], dtype='object')\n",
    "\n",
    "# Correct column order\n",
    "column_reindex = ['Entity', 'Year', 'A_<5', 'D_<5', 'A_5-14', 'D_5-14', 'A_15-49', 'D_15-49', 'A_50-69', 'D_50-69', 'A_70+', 'D_70+']\n",
    "\n",
    "tenyears_predictions_df = tenyears_predictions_df.reindex(columns = column_reindex)\n",
    "\n",
    "# CHECK\n",
    "tenyears_predictions_df"
   ]
  },
  {
   "cell_type": "code",
   "execution_count": 64,
   "metadata": {},
   "outputs": [
    {
     "output_type": "execute_result",
     "data": {
      "text/plain": [
       "                         Entity  Year       A_<5      D_<5      A_5-14  \\\n",
       "3                   Afghanistan  2021  11.119785  0.275587  289.238583   \n",
       "7                       Albania  2021   8.519635  0.194262  225.356968   \n",
       "11                      Algeria  2021  11.318114  0.279324  279.091150   \n",
       "15               American Samoa  2021   9.241162  0.200379  238.598004   \n",
       "19         Andean Latin America  2021   9.482767  0.210212  238.106689   \n",
       "..                          ...   ...        ...       ...         ...   \n",
       "907  Western Sub-Saharan Africa  2021   8.715448  0.232794  218.420770   \n",
       "911                       World  2021   9.582160  0.219311  237.663502   \n",
       "915                       Yemen  2021  10.934672  0.280212  283.941426   \n",
       "919                      Zambia  2021   9.386978  0.229947  238.966593   \n",
       "923                    Zimbabwe  2021   8.757299  0.211329  218.339936   \n",
       "\n",
       "         D_5-14     A_15-49     D_15-49     A_50-69      D_50-69       A_70+  \\\n",
       "3    165.066037  588.065037  882.819554  489.318709  1004.245872  353.432429   \n",
       "7     88.276859  376.367705  395.146164  385.415179   551.287825  327.802604   \n",
       "11   152.728097  616.019195  793.720945  481.222364   872.687866  354.626848   \n",
       "15   106.835378  355.204127  482.738576  400.007927   714.757845  360.762687   \n",
       "19    96.124381  519.060871  495.817303  461.193430   705.288758  328.358244   \n",
       "..          ...         ...         ...         ...          ...         ...   \n",
       "907  124.055909  349.704507  659.411545  295.144524  1117.879373  231.027049   \n",
       "911  119.502542  427.311625  643.504996  425.544371   920.709419  351.303094   \n",
       "915  163.306041  600.921418  905.840506  478.857837   986.980330  357.716872   \n",
       "919  137.099732  434.784591  649.941337  381.216731  1132.202067  314.587644   \n",
       "923   99.222604  369.886265  537.845205  307.956730   931.876550  240.959516   \n",
       "\n",
       "           D_70+  \n",
       "3     782.107595  \n",
       "7     655.249068  \n",
       "11    715.375456  \n",
       "15    705.653478  \n",
       "19    713.606748  \n",
       "..           ...  \n",
       "907  1315.235917  \n",
       "911   919.281288  \n",
       "915   769.525152  \n",
       "919  1312.748514  \n",
       "923  1198.462249  \n",
       "\n",
       "[231 rows x 12 columns]"
      ],
      "text/html": "<div>\n<style scoped>\n    .dataframe tbody tr th:only-of-type {\n        vertical-align: middle;\n    }\n\n    .dataframe tbody tr th {\n        vertical-align: top;\n    }\n\n    .dataframe thead th {\n        text-align: right;\n    }\n</style>\n<table border=\"1\" class=\"dataframe\">\n  <thead>\n    <tr style=\"text-align: right;\">\n      <th></th>\n      <th>Entity</th>\n      <th>Year</th>\n      <th>A_&lt;5</th>\n      <th>D_&lt;5</th>\n      <th>A_5-14</th>\n      <th>D_5-14</th>\n      <th>A_15-49</th>\n      <th>D_15-49</th>\n      <th>A_50-69</th>\n      <th>D_50-69</th>\n      <th>A_70+</th>\n      <th>D_70+</th>\n    </tr>\n  </thead>\n  <tbody>\n    <tr>\n      <th>3</th>\n      <td>Afghanistan</td>\n      <td>2021</td>\n      <td>11.119785</td>\n      <td>0.275587</td>\n      <td>289.238583</td>\n      <td>165.066037</td>\n      <td>588.065037</td>\n      <td>882.819554</td>\n      <td>489.318709</td>\n      <td>1004.245872</td>\n      <td>353.432429</td>\n      <td>782.107595</td>\n    </tr>\n    <tr>\n      <th>7</th>\n      <td>Albania</td>\n      <td>2021</td>\n      <td>8.519635</td>\n      <td>0.194262</td>\n      <td>225.356968</td>\n      <td>88.276859</td>\n      <td>376.367705</td>\n      <td>395.146164</td>\n      <td>385.415179</td>\n      <td>551.287825</td>\n      <td>327.802604</td>\n      <td>655.249068</td>\n    </tr>\n    <tr>\n      <th>11</th>\n      <td>Algeria</td>\n      <td>2021</td>\n      <td>11.318114</td>\n      <td>0.279324</td>\n      <td>279.091150</td>\n      <td>152.728097</td>\n      <td>616.019195</td>\n      <td>793.720945</td>\n      <td>481.222364</td>\n      <td>872.687866</td>\n      <td>354.626848</td>\n      <td>715.375456</td>\n    </tr>\n    <tr>\n      <th>15</th>\n      <td>American Samoa</td>\n      <td>2021</td>\n      <td>9.241162</td>\n      <td>0.200379</td>\n      <td>238.598004</td>\n      <td>106.835378</td>\n      <td>355.204127</td>\n      <td>482.738576</td>\n      <td>400.007927</td>\n      <td>714.757845</td>\n      <td>360.762687</td>\n      <td>705.653478</td>\n    </tr>\n    <tr>\n      <th>19</th>\n      <td>Andean Latin America</td>\n      <td>2021</td>\n      <td>9.482767</td>\n      <td>0.210212</td>\n      <td>238.106689</td>\n      <td>96.124381</td>\n      <td>519.060871</td>\n      <td>495.817303</td>\n      <td>461.193430</td>\n      <td>705.288758</td>\n      <td>328.358244</td>\n      <td>713.606748</td>\n    </tr>\n    <tr>\n      <th>...</th>\n      <td>...</td>\n      <td>...</td>\n      <td>...</td>\n      <td>...</td>\n      <td>...</td>\n      <td>...</td>\n      <td>...</td>\n      <td>...</td>\n      <td>...</td>\n      <td>...</td>\n      <td>...</td>\n      <td>...</td>\n    </tr>\n    <tr>\n      <th>907</th>\n      <td>Western Sub-Saharan Africa</td>\n      <td>2021</td>\n      <td>8.715448</td>\n      <td>0.232794</td>\n      <td>218.420770</td>\n      <td>124.055909</td>\n      <td>349.704507</td>\n      <td>659.411545</td>\n      <td>295.144524</td>\n      <td>1117.879373</td>\n      <td>231.027049</td>\n      <td>1315.235917</td>\n    </tr>\n    <tr>\n      <th>911</th>\n      <td>World</td>\n      <td>2021</td>\n      <td>9.582160</td>\n      <td>0.219311</td>\n      <td>237.663502</td>\n      <td>119.502542</td>\n      <td>427.311625</td>\n      <td>643.504996</td>\n      <td>425.544371</td>\n      <td>920.709419</td>\n      <td>351.303094</td>\n      <td>919.281288</td>\n    </tr>\n    <tr>\n      <th>915</th>\n      <td>Yemen</td>\n      <td>2021</td>\n      <td>10.934672</td>\n      <td>0.280212</td>\n      <td>283.941426</td>\n      <td>163.306041</td>\n      <td>600.921418</td>\n      <td>905.840506</td>\n      <td>478.857837</td>\n      <td>986.980330</td>\n      <td>357.716872</td>\n      <td>769.525152</td>\n    </tr>\n    <tr>\n      <th>919</th>\n      <td>Zambia</td>\n      <td>2021</td>\n      <td>9.386978</td>\n      <td>0.229947</td>\n      <td>238.966593</td>\n      <td>137.099732</td>\n      <td>434.784591</td>\n      <td>649.941337</td>\n      <td>381.216731</td>\n      <td>1132.202067</td>\n      <td>314.587644</td>\n      <td>1312.748514</td>\n    </tr>\n    <tr>\n      <th>923</th>\n      <td>Zimbabwe</td>\n      <td>2021</td>\n      <td>8.757299</td>\n      <td>0.211329</td>\n      <td>218.339936</td>\n      <td>99.222604</td>\n      <td>369.886265</td>\n      <td>537.845205</td>\n      <td>307.956730</td>\n      <td>931.876550</td>\n      <td>240.959516</td>\n      <td>1198.462249</td>\n    </tr>\n  </tbody>\n</table>\n<p>231 rows × 12 columns</p>\n</div>"
     },
     "metadata": {},
     "execution_count": 64
    }
   ],
   "source": [
    "# Grab subset 2021 data \n",
    "\n",
    "# afghanistan = tenyears_df.loc[tenyears_df['Entity'] == 'Afghanistan', :]\n",
    "\n",
    "# afghanistan_subset = afghanistan.loc[:, ['Entity', 'Year', 'A_<5']]\n",
    "# afghanistan_subset\n",
    "\n",
    "finalyear_df = tenyears_predictions_df[tenyears_predictions_df['Year'].isin(['2021'])]\n",
    "finalyear_df"
   ]
  },
  {
   "cell_type": "code",
   "execution_count": 65,
   "metadata": {},
   "outputs": [
    {
     "output_type": "execute_result",
     "data": {
      "text/plain": [
       "                         Entity   latitude   longitude\n",
       "0                   Afghanistan  33.513199   65.664803\n",
       "1                       Albania  42.651242  -73.755418\n",
       "2                       Algeria  36.775348    3.060066\n",
       "3                American Samoa -14.293662 -170.698357\n",
       "4          Andean Latin America  -6.185530  106.706880\n",
       "..                          ...        ...         ...\n",
       "226  Western Sub-Saharan Africa -33.966130   18.626440\n",
       "227                       World  36.155330  -95.992080\n",
       "228                       Yemen  14.674200   45.585800\n",
       "229                      Zambia -13.115900   27.446899\n",
       "230                    Zimbabwe -19.447100   29.815201\n",
       "\n",
       "[231 rows x 3 columns]"
      ],
      "text/html": "<div>\n<style scoped>\n    .dataframe tbody tr th:only-of-type {\n        vertical-align: middle;\n    }\n\n    .dataframe tbody tr th {\n        vertical-align: top;\n    }\n\n    .dataframe thead th {\n        text-align: right;\n    }\n</style>\n<table border=\"1\" class=\"dataframe\">\n  <thead>\n    <tr style=\"text-align: right;\">\n      <th></th>\n      <th>Entity</th>\n      <th>latitude</th>\n      <th>longitude</th>\n    </tr>\n  </thead>\n  <tbody>\n    <tr>\n      <th>0</th>\n      <td>Afghanistan</td>\n      <td>33.513199</td>\n      <td>65.664803</td>\n    </tr>\n    <tr>\n      <th>1</th>\n      <td>Albania</td>\n      <td>42.651242</td>\n      <td>-73.755418</td>\n    </tr>\n    <tr>\n      <th>2</th>\n      <td>Algeria</td>\n      <td>36.775348</td>\n      <td>3.060066</td>\n    </tr>\n    <tr>\n      <th>3</th>\n      <td>American Samoa</td>\n      <td>-14.293662</td>\n      <td>-170.698357</td>\n    </tr>\n    <tr>\n      <th>4</th>\n      <td>Andean Latin America</td>\n      <td>-6.185530</td>\n      <td>106.706880</td>\n    </tr>\n    <tr>\n      <th>...</th>\n      <td>...</td>\n      <td>...</td>\n      <td>...</td>\n    </tr>\n    <tr>\n      <th>226</th>\n      <td>Western Sub-Saharan Africa</td>\n      <td>-33.966130</td>\n      <td>18.626440</td>\n    </tr>\n    <tr>\n      <th>227</th>\n      <td>World</td>\n      <td>36.155330</td>\n      <td>-95.992080</td>\n    </tr>\n    <tr>\n      <th>228</th>\n      <td>Yemen</td>\n      <td>14.674200</td>\n      <td>45.585800</td>\n    </tr>\n    <tr>\n      <th>229</th>\n      <td>Zambia</td>\n      <td>-13.115900</td>\n      <td>27.446899</td>\n    </tr>\n    <tr>\n      <th>230</th>\n      <td>Zimbabwe</td>\n      <td>-19.447100</td>\n      <td>29.815201</td>\n    </tr>\n  </tbody>\n</table>\n<p>231 rows × 3 columns</p>\n</div>"
     },
     "metadata": {},
     "execution_count": 65
    }
   ],
   "source": [
    "# Add coordinates\n",
    "\n",
    "countries_coords = pd.read_csv(\"Data/countries.csv\")\n",
    "# countries_coords"
   ]
  },
  {
   "cell_type": "code",
   "execution_count": 66,
   "metadata": {},
   "outputs": [
    {
     "output_type": "execute_result",
     "data": {
      "text/plain": [
       "                         Entity  Year       A_<5      D_<5      A_5-14  \\\n",
       "0                   Afghanistan  2021  11.119785  0.275587  289.238583   \n",
       "1                       Albania  2021   8.519635  0.194262  225.356968   \n",
       "2                       Algeria  2021  11.318114  0.279324  279.091150   \n",
       "3                American Samoa  2021   9.241162  0.200379  238.598004   \n",
       "4          Andean Latin America  2021   9.482767  0.210212  238.106689   \n",
       "..                          ...   ...        ...       ...         ...   \n",
       "226  Western Sub-Saharan Africa  2021   8.715448  0.232794  218.420770   \n",
       "227                       World  2021   9.582160  0.219311  237.663502   \n",
       "228                       Yemen  2021  10.934672  0.280212  283.941426   \n",
       "229                      Zambia  2021   9.386978  0.229947  238.966593   \n",
       "230                    Zimbabwe  2021   8.757299  0.211329  218.339936   \n",
       "\n",
       "         D_5-14     A_15-49     D_15-49     A_50-69      D_50-69       A_70+  \\\n",
       "0    165.066037  588.065037  882.819554  489.318709  1004.245872  353.432429   \n",
       "1     88.276859  376.367705  395.146164  385.415179   551.287825  327.802604   \n",
       "2    152.728097  616.019195  793.720945  481.222364   872.687866  354.626848   \n",
       "3    106.835378  355.204127  482.738576  400.007927   714.757845  360.762687   \n",
       "4     96.124381  519.060871  495.817303  461.193430   705.288758  328.358244   \n",
       "..          ...         ...         ...         ...          ...         ...   \n",
       "226  124.055909  349.704507  659.411545  295.144524  1117.879373  231.027049   \n",
       "227  119.502542  427.311625  643.504996  425.544371   920.709419  351.303094   \n",
       "228  163.306041  600.921418  905.840506  478.857837   986.980330  357.716872   \n",
       "229  137.099732  434.784591  649.941337  381.216731  1132.202067  314.587644   \n",
       "230   99.222604  369.886265  537.845205  307.956730   931.876550  240.959516   \n",
       "\n",
       "           D_70+   latitude   longitude  \n",
       "0     782.107595  33.513199   65.664803  \n",
       "1     655.249068  42.651242  -73.755418  \n",
       "2     715.375456  36.775348    3.060066  \n",
       "3     705.653478 -14.293662 -170.698357  \n",
       "4     713.606748  -6.185530  106.706880  \n",
       "..           ...        ...         ...  \n",
       "226  1315.235917 -33.966130   18.626440  \n",
       "227   919.281288  36.155330  -95.992080  \n",
       "228   769.525152  14.674200   45.585800  \n",
       "229  1312.748514 -13.115900   27.446899  \n",
       "230  1198.462249 -19.447100   29.815201  \n",
       "\n",
       "[231 rows x 14 columns]"
      ],
      "text/html": "<div>\n<style scoped>\n    .dataframe tbody tr th:only-of-type {\n        vertical-align: middle;\n    }\n\n    .dataframe tbody tr th {\n        vertical-align: top;\n    }\n\n    .dataframe thead th {\n        text-align: right;\n    }\n</style>\n<table border=\"1\" class=\"dataframe\">\n  <thead>\n    <tr style=\"text-align: right;\">\n      <th></th>\n      <th>Entity</th>\n      <th>Year</th>\n      <th>A_&lt;5</th>\n      <th>D_&lt;5</th>\n      <th>A_5-14</th>\n      <th>D_5-14</th>\n      <th>A_15-49</th>\n      <th>D_15-49</th>\n      <th>A_50-69</th>\n      <th>D_50-69</th>\n      <th>A_70+</th>\n      <th>D_70+</th>\n      <th>latitude</th>\n      <th>longitude</th>\n    </tr>\n  </thead>\n  <tbody>\n    <tr>\n      <th>0</th>\n      <td>Afghanistan</td>\n      <td>2021</td>\n      <td>11.119785</td>\n      <td>0.275587</td>\n      <td>289.238583</td>\n      <td>165.066037</td>\n      <td>588.065037</td>\n      <td>882.819554</td>\n      <td>489.318709</td>\n      <td>1004.245872</td>\n      <td>353.432429</td>\n      <td>782.107595</td>\n      <td>33.513199</td>\n      <td>65.664803</td>\n    </tr>\n    <tr>\n      <th>1</th>\n      <td>Albania</td>\n      <td>2021</td>\n      <td>8.519635</td>\n      <td>0.194262</td>\n      <td>225.356968</td>\n      <td>88.276859</td>\n      <td>376.367705</td>\n      <td>395.146164</td>\n      <td>385.415179</td>\n      <td>551.287825</td>\n      <td>327.802604</td>\n      <td>655.249068</td>\n      <td>42.651242</td>\n      <td>-73.755418</td>\n    </tr>\n    <tr>\n      <th>2</th>\n      <td>Algeria</td>\n      <td>2021</td>\n      <td>11.318114</td>\n      <td>0.279324</td>\n      <td>279.091150</td>\n      <td>152.728097</td>\n      <td>616.019195</td>\n      <td>793.720945</td>\n      <td>481.222364</td>\n      <td>872.687866</td>\n      <td>354.626848</td>\n      <td>715.375456</td>\n      <td>36.775348</td>\n      <td>3.060066</td>\n    </tr>\n    <tr>\n      <th>3</th>\n      <td>American Samoa</td>\n      <td>2021</td>\n      <td>9.241162</td>\n      <td>0.200379</td>\n      <td>238.598004</td>\n      <td>106.835378</td>\n      <td>355.204127</td>\n      <td>482.738576</td>\n      <td>400.007927</td>\n      <td>714.757845</td>\n      <td>360.762687</td>\n      <td>705.653478</td>\n      <td>-14.293662</td>\n      <td>-170.698357</td>\n    </tr>\n    <tr>\n      <th>4</th>\n      <td>Andean Latin America</td>\n      <td>2021</td>\n      <td>9.482767</td>\n      <td>0.210212</td>\n      <td>238.106689</td>\n      <td>96.124381</td>\n      <td>519.060871</td>\n      <td>495.817303</td>\n      <td>461.193430</td>\n      <td>705.288758</td>\n      <td>328.358244</td>\n      <td>713.606748</td>\n      <td>-6.185530</td>\n      <td>106.706880</td>\n    </tr>\n    <tr>\n      <th>...</th>\n      <td>...</td>\n      <td>...</td>\n      <td>...</td>\n      <td>...</td>\n      <td>...</td>\n      <td>...</td>\n      <td>...</td>\n      <td>...</td>\n      <td>...</td>\n      <td>...</td>\n      <td>...</td>\n      <td>...</td>\n      <td>...</td>\n      <td>...</td>\n    </tr>\n    <tr>\n      <th>226</th>\n      <td>Western Sub-Saharan Africa</td>\n      <td>2021</td>\n      <td>8.715448</td>\n      <td>0.232794</td>\n      <td>218.420770</td>\n      <td>124.055909</td>\n      <td>349.704507</td>\n      <td>659.411545</td>\n      <td>295.144524</td>\n      <td>1117.879373</td>\n      <td>231.027049</td>\n      <td>1315.235917</td>\n      <td>-33.966130</td>\n      <td>18.626440</td>\n    </tr>\n    <tr>\n      <th>227</th>\n      <td>World</td>\n      <td>2021</td>\n      <td>9.582160</td>\n      <td>0.219311</td>\n      <td>237.663502</td>\n      <td>119.502542</td>\n      <td>427.311625</td>\n      <td>643.504996</td>\n      <td>425.544371</td>\n      <td>920.709419</td>\n      <td>351.303094</td>\n      <td>919.281288</td>\n      <td>36.155330</td>\n      <td>-95.992080</td>\n    </tr>\n    <tr>\n      <th>228</th>\n      <td>Yemen</td>\n      <td>2021</td>\n      <td>10.934672</td>\n      <td>0.280212</td>\n      <td>283.941426</td>\n      <td>163.306041</td>\n      <td>600.921418</td>\n      <td>905.840506</td>\n      <td>478.857837</td>\n      <td>986.980330</td>\n      <td>357.716872</td>\n      <td>769.525152</td>\n      <td>14.674200</td>\n      <td>45.585800</td>\n    </tr>\n    <tr>\n      <th>229</th>\n      <td>Zambia</td>\n      <td>2021</td>\n      <td>9.386978</td>\n      <td>0.229947</td>\n      <td>238.966593</td>\n      <td>137.099732</td>\n      <td>434.784591</td>\n      <td>649.941337</td>\n      <td>381.216731</td>\n      <td>1132.202067</td>\n      <td>314.587644</td>\n      <td>1312.748514</td>\n      <td>-13.115900</td>\n      <td>27.446899</td>\n    </tr>\n    <tr>\n      <th>230</th>\n      <td>Zimbabwe</td>\n      <td>2021</td>\n      <td>8.757299</td>\n      <td>0.211329</td>\n      <td>218.339936</td>\n      <td>99.222604</td>\n      <td>369.886265</td>\n      <td>537.845205</td>\n      <td>307.956730</td>\n      <td>931.876550</td>\n      <td>240.959516</td>\n      <td>1198.462249</td>\n      <td>-19.447100</td>\n      <td>29.815201</td>\n    </tr>\n  </tbody>\n</table>\n<p>231 rows × 14 columns</p>\n</div>"
     },
     "metadata": {},
     "execution_count": 66
    }
   ],
   "source": [
    "# Add coordinates df with the final year dataframe\n",
    "finalyr_latlong_df = finalyear_df.merge(countries_coords, how = 'inner', on = 'Entity')\n",
    "finalyr_latlong_df"
   ]
  },
  {
   "cell_type": "code",
   "execution_count": 67,
   "metadata": {},
   "outputs": [
    {
     "output_type": "execute_result",
     "data": {
      "text/plain": [
       "             Entity  Year       A_<5      D_<5      A_5-14      D_5-14  \\\n",
       "0       Afghanistan  2021  11.119785  0.275587  289.238583  165.066037   \n",
       "1           Albania  2021   8.519635  0.194262  225.356968   88.276859   \n",
       "2           Algeria  2021  11.318114  0.279324  279.091150  152.728097   \n",
       "3    American Samoa  2021   9.241162  0.200379  238.598004  106.835378   \n",
       "5           Andorra  2021  19.783214  0.340381  423.794172  173.031069   \n",
       "..              ...   ...        ...       ...         ...         ...   \n",
       "224           Wales  2021  17.077502  0.342812  372.027201  188.433933   \n",
       "225  Western Europe  2021  18.947513  0.309074  438.091657  173.384505   \n",
       "228           Yemen  2021  10.934672  0.280212  283.941426  163.306041   \n",
       "229          Zambia  2021   9.386978  0.229947  238.966593  137.099732   \n",
       "230        Zimbabwe  2021   8.757299  0.211329  218.339936   99.222604   \n",
       "\n",
       "        A_15-49     D_15-49     A_50-69      D_50-69       A_70+        D_70+  \\\n",
       "0    588.065037  882.819554  489.318709  1004.245872  353.432429   782.107595   \n",
       "1    376.367705  395.146164  385.415179   551.287825  327.802604   655.249068   \n",
       "2    616.019195  793.720945  481.222364   872.687866  354.626848   715.375456   \n",
       "3    355.204127  482.738576  400.007927   714.757845  360.762687   705.653478   \n",
       "5    574.779072  768.371717  517.158177   741.623664  393.133146   711.605536   \n",
       "..          ...         ...         ...          ...         ...          ...   \n",
       "224  510.591378  855.269835  457.779501   788.198319  354.536046   697.506436   \n",
       "225  607.044690  803.678681  558.724980   804.917684  428.861910   760.215540   \n",
       "228  600.921418  905.840506  478.857837   986.980330  357.716872   769.525152   \n",
       "229  434.784591  649.941337  381.216731  1132.202067  314.587644  1312.748514   \n",
       "230  369.886265  537.845205  307.956730   931.876550  240.959516  1198.462249   \n",
       "\n",
       "      latitude   longitude  \n",
       "0    33.513199   65.664803  \n",
       "1    42.651242  -73.755418  \n",
       "2    36.775348    3.060066  \n",
       "3   -14.293662 -170.698357  \n",
       "5    42.545250    1.576297  \n",
       "..         ...         ...  \n",
       "224  52.292812   -3.738930  \n",
       "225  -6.181610  106.706720  \n",
       "228  14.674200   45.585800  \n",
       "229 -13.115900   27.446899  \n",
       "230 -19.447100   29.815201  \n",
       "\n",
       "[201 rows x 14 columns]"
      ],
      "text/html": "<div>\n<style scoped>\n    .dataframe tbody tr th:only-of-type {\n        vertical-align: middle;\n    }\n\n    .dataframe tbody tr th {\n        vertical-align: top;\n    }\n\n    .dataframe thead th {\n        text-align: right;\n    }\n</style>\n<table border=\"1\" class=\"dataframe\">\n  <thead>\n    <tr style=\"text-align: right;\">\n      <th></th>\n      <th>Entity</th>\n      <th>Year</th>\n      <th>A_&lt;5</th>\n      <th>D_&lt;5</th>\n      <th>A_5-14</th>\n      <th>D_5-14</th>\n      <th>A_15-49</th>\n      <th>D_15-49</th>\n      <th>A_50-69</th>\n      <th>D_50-69</th>\n      <th>A_70+</th>\n      <th>D_70+</th>\n      <th>latitude</th>\n      <th>longitude</th>\n    </tr>\n  </thead>\n  <tbody>\n    <tr>\n      <th>0</th>\n      <td>Afghanistan</td>\n      <td>2021</td>\n      <td>11.119785</td>\n      <td>0.275587</td>\n      <td>289.238583</td>\n      <td>165.066037</td>\n      <td>588.065037</td>\n      <td>882.819554</td>\n      <td>489.318709</td>\n      <td>1004.245872</td>\n      <td>353.432429</td>\n      <td>782.107595</td>\n      <td>33.513199</td>\n      <td>65.664803</td>\n    </tr>\n    <tr>\n      <th>1</th>\n      <td>Albania</td>\n      <td>2021</td>\n      <td>8.519635</td>\n      <td>0.194262</td>\n      <td>225.356968</td>\n      <td>88.276859</td>\n      <td>376.367705</td>\n      <td>395.146164</td>\n      <td>385.415179</td>\n      <td>551.287825</td>\n      <td>327.802604</td>\n      <td>655.249068</td>\n      <td>42.651242</td>\n      <td>-73.755418</td>\n    </tr>\n    <tr>\n      <th>2</th>\n      <td>Algeria</td>\n      <td>2021</td>\n      <td>11.318114</td>\n      <td>0.279324</td>\n      <td>279.091150</td>\n      <td>152.728097</td>\n      <td>616.019195</td>\n      <td>793.720945</td>\n      <td>481.222364</td>\n      <td>872.687866</td>\n      <td>354.626848</td>\n      <td>715.375456</td>\n      <td>36.775348</td>\n      <td>3.060066</td>\n    </tr>\n    <tr>\n      <th>3</th>\n      <td>American Samoa</td>\n      <td>2021</td>\n      <td>9.241162</td>\n      <td>0.200379</td>\n      <td>238.598004</td>\n      <td>106.835378</td>\n      <td>355.204127</td>\n      <td>482.738576</td>\n      <td>400.007927</td>\n      <td>714.757845</td>\n      <td>360.762687</td>\n      <td>705.653478</td>\n      <td>-14.293662</td>\n      <td>-170.698357</td>\n    </tr>\n    <tr>\n      <th>5</th>\n      <td>Andorra</td>\n      <td>2021</td>\n      <td>19.783214</td>\n      <td>0.340381</td>\n      <td>423.794172</td>\n      <td>173.031069</td>\n      <td>574.779072</td>\n      <td>768.371717</td>\n      <td>517.158177</td>\n      <td>741.623664</td>\n      <td>393.133146</td>\n      <td>711.605536</td>\n      <td>42.545250</td>\n      <td>1.576297</td>\n    </tr>\n    <tr>\n      <th>...</th>\n      <td>...</td>\n      <td>...</td>\n      <td>...</td>\n      <td>...</td>\n      <td>...</td>\n      <td>...</td>\n      <td>...</td>\n      <td>...</td>\n      <td>...</td>\n      <td>...</td>\n      <td>...</td>\n      <td>...</td>\n      <td>...</td>\n      <td>...</td>\n    </tr>\n    <tr>\n      <th>224</th>\n      <td>Wales</td>\n      <td>2021</td>\n      <td>17.077502</td>\n      <td>0.342812</td>\n      <td>372.027201</td>\n      <td>188.433933</td>\n      <td>510.591378</td>\n      <td>855.269835</td>\n      <td>457.779501</td>\n      <td>788.198319</td>\n      <td>354.536046</td>\n      <td>697.506436</td>\n      <td>52.292812</td>\n      <td>-3.738930</td>\n    </tr>\n    <tr>\n      <th>225</th>\n      <td>Western Europe</td>\n      <td>2021</td>\n      <td>18.947513</td>\n      <td>0.309074</td>\n      <td>438.091657</td>\n      <td>173.384505</td>\n      <td>607.044690</td>\n      <td>803.678681</td>\n      <td>558.724980</td>\n      <td>804.917684</td>\n      <td>428.861910</td>\n      <td>760.215540</td>\n      <td>-6.181610</td>\n      <td>106.706720</td>\n    </tr>\n    <tr>\n      <th>228</th>\n      <td>Yemen</td>\n      <td>2021</td>\n      <td>10.934672</td>\n      <td>0.280212</td>\n      <td>283.941426</td>\n      <td>163.306041</td>\n      <td>600.921418</td>\n      <td>905.840506</td>\n      <td>478.857837</td>\n      <td>986.980330</td>\n      <td>357.716872</td>\n      <td>769.525152</td>\n      <td>14.674200</td>\n      <td>45.585800</td>\n    </tr>\n    <tr>\n      <th>229</th>\n      <td>Zambia</td>\n      <td>2021</td>\n      <td>9.386978</td>\n      <td>0.229947</td>\n      <td>238.966593</td>\n      <td>137.099732</td>\n      <td>434.784591</td>\n      <td>649.941337</td>\n      <td>381.216731</td>\n      <td>1132.202067</td>\n      <td>314.587644</td>\n      <td>1312.748514</td>\n      <td>-13.115900</td>\n      <td>27.446899</td>\n    </tr>\n    <tr>\n      <th>230</th>\n      <td>Zimbabwe</td>\n      <td>2021</td>\n      <td>8.757299</td>\n      <td>0.211329</td>\n      <td>218.339936</td>\n      <td>99.222604</td>\n      <td>369.886265</td>\n      <td>537.845205</td>\n      <td>307.956730</td>\n      <td>931.876550</td>\n      <td>240.959516</td>\n      <td>1198.462249</td>\n      <td>-19.447100</td>\n      <td>29.815201</td>\n    </tr>\n  </tbody>\n</table>\n<p>201 rows × 14 columns</p>\n</div>"
     },
     "metadata": {},
     "execution_count": 67
    }
   ],
   "source": [
    "# Remove countries that we don't want\n",
    "\n",
    "# Define non_countries to remove\n",
    "non_countries = [\"Andean Latin America\", \"Australasia\", \"Central African Republic\", \"Central Asia\", \"Central Europe\", \"Central Europe, Eastern Europe, and Central Asia\", \"Central Latin America\", \"Central Sub-Saharan Africa\", \"East Asia\", \"Eastern Europe\", \"Eastern Sub-Saharan Africa\", \"High SDI\", \"High-income\", \"High-income Asia Pacific\", \"High-middle SDI\", \"Low SDI\", \"Low-middle SDI\", \"Middle SDI\", \"North Africa and Middle East\", \"North America\", \"Oceania\", \"South Asia\", \"Southeast Asia\", \"Southeast Asia, East Asia, and Oceania\", \"Southern Latin America\", \"Southern Sub-Saharan Africa\", \"Sub-Saharan Africa\", \"Tropical Latin America\", \"Western Sub-Saharan Africa\", \"World\"]\n",
    "\n",
    "# Remove\n",
    "final_countries = finalyr_latlong_df[~finalyr_latlong_df.Entity.isin(non_countries)]\n",
    "final_countries"
   ]
  },
  {
   "cell_type": "code",
   "execution_count": null,
   "metadata": {},
   "outputs": [],
   "source": [
    "# Upload to PostgreSQL\n",
    "\n"
   ]
  },
  {
   "source": [
    "# Some solutions to array issue"
   ],
   "cell_type": "markdown",
   "metadata": {}
  },
  {
   "cell_type": "code",
   "execution_count": null,
   "metadata": {},
   "outputs": [],
   "source": [
    "result_array = []\n",
    "list_for_results = []\n",
    "for i in result_array:\n",
    "     ...\n",
    "     make sure it reads one array each time\n",
    "     list_for_results.append( list(i ))\n",
    "new_df = pd.concat(list_for_results)"
   ]
  },
  {
   "cell_type": "code",
   "execution_count": null,
   "metadata": {},
   "outputs": [],
   "source": [
    "numpyArray = np.array([[15, 22, 43], \n",
    "                       [33, 24, 56]])\n",
    "numpyArray\n",
    "\n",
    "# defining column headers for the \n",
    "# Pandas dataframe\n",
    "columns = ['Column_' + str(i) \n",
    "          for i in range(1, len(numpyArray[0]) + 1)]\n",
    "\n",
    "# generating the Pandas dataframe\n",
    "# from the Numpy array and specifying\n",
    "# details of index and column headers\n",
    "panda_df = pd.DataFrame(numpyArray, \n",
    "                        columns = columns)      \n",
    "\n",
    "# printing the dataframe\n",
    "print(panda_df)  "
   ]
  },
  {
   "cell_type": "code",
   "execution_count": null,
   "metadata": {},
   "outputs": [],
   "source": []
  }
 ]
}