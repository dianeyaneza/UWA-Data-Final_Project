{
 "metadata": {
  "language_info": {
   "codemirror_mode": {
    "name": "ipython",
    "version": 3
   },
   "file_extension": ".py",
   "mimetype": "text/x-python",
   "name": "python",
   "nbconvert_exporter": "python",
   "pygments_lexer": "ipython3",
   "version": "3.8.8"
  },
  "orig_nbformat": 2,
  "kernelspec": {
   "name": "python388jvsc74a57bd085762426d71f2b191e713c5961a63e6fefd6db17605c41aaf3f2f11771e258dd",
   "display_name": "Python 3.8.8 32-bit (conda)"
  }
 },
 "nbformat": 4,
 "nbformat_minor": 2,
 "cells": [
  {
   "cell_type": "code",
   "execution_count": 1,
   "metadata": {},
   "outputs": [],
   "source": [
    "# Dependencies\n",
    "import csv\n",
    "import os\n",
    "import pandas as pd"
   ]
  },
  {
   "cell_type": "code",
   "execution_count": 2,
   "metadata": {},
   "outputs": [],
   "source": [
    "# Study data files\n",
    "anxiety_path = \"assets/data/daly-anxiety-age.csv\"\n",
    "depression_path = \"assets/data/daly-depression-age.csv\""
   ]
  },
  {
   "cell_type": "code",
   "execution_count": 3,
   "metadata": {},
   "outputs": [],
   "source": [
    "# Read the data\n",
    "anxiety_data = pd.read_csv(anxiety_path)\n",
    "depression_data = pd.read_csv(depression_path)"
   ]
  },
  {
   "cell_type": "code",
   "execution_count": 4,
   "metadata": {},
   "outputs": [
    {
     "output_type": "execute_result",
     "data": {
      "text/plain": [
       "Index(['Entity', 'Code', 'Year',\n",
       "       'DALYs (Disability-Adjusted Life Years) - Anxiety disorders - Sex: Both - Age: Under 5 (Rate)',\n",
       "       'DALYs (Disability-Adjusted Life Years) - Anxiety disorders - Sex: Both - Age: All Ages (Rate)',\n",
       "       'DALYs (Disability-Adjusted Life Years) - Anxiety disorders - Sex: Both - Age: 70+ years (Rate)',\n",
       "       'DALYs (Disability-Adjusted Life Years) - Anxiety disorders - Sex: Both - Age: 50-69 years (Rate)',\n",
       "       'DALYs (Disability-Adjusted Life Years) - Anxiety disorders - Sex: Both - Age: 5-14 years (Rate)',\n",
       "       'DALYs (Disability-Adjusted Life Years) - Anxiety disorders - Sex: Both - Age: 15-49 years (Rate)',\n",
       "       'DALYs (Disability-Adjusted Life Years) - Anxiety disorders - Sex: Both - Age: Age-standardized (Rate)'],\n",
       "      dtype='object')"
      ]
     },
     "metadata": {},
     "execution_count": 4
    }
   ],
   "source": [
    "anxiety_data.columns"
   ]
  },
  {
   "cell_type": "code",
   "execution_count": 5,
   "metadata": {},
   "outputs": [
    {
     "output_type": "execute_result",
     "data": {
      "text/plain": [
       "           Entity Code  Year  \\\n",
       "0     Afghanistan  AFG  1990   \n",
       "1     Afghanistan  AFG  1991   \n",
       "2     Afghanistan  AFG  1992   \n",
       "3     Afghanistan  AFG  1993   \n",
       "4     Afghanistan  AFG  1994   \n",
       "...           ...  ...   ...   \n",
       "6463     Zimbabwe  ZWE  2013   \n",
       "6464     Zimbabwe  ZWE  2014   \n",
       "6465     Zimbabwe  ZWE  2015   \n",
       "6466     Zimbabwe  ZWE  2016   \n",
       "6467     Zimbabwe  ZWE  2017   \n",
       "\n",
       "      DALYs (Disability-Adjusted Life Years) - Anxiety disorders - Sex: Both - Age: Under 5 (Rate)  \\\n",
       "0                                             10.851451                                              \n",
       "1                                             10.758383                                              \n",
       "2                                             10.387921                                              \n",
       "3                                             10.289752                                              \n",
       "4                                             10.464435                                              \n",
       "...                                                 ...                                              \n",
       "6463                                           8.612919                                              \n",
       "6464                                           8.731586                                              \n",
       "6465                                           8.646030                                              \n",
       "6466                                           8.777977                                              \n",
       "6467                                           8.773549                                              \n",
       "\n",
       "      DALYs (Disability-Adjusted Life Years) - Anxiety disorders - Sex: Both - Age: 5-14 years (Rate)  \\\n",
       "0                                            290.799110                                                 \n",
       "1                                            287.732096                                                 \n",
       "2                                            284.531098                                                 \n",
       "3                                            281.185300                                                 \n",
       "4                                            278.113533                                                 \n",
       "...                                                 ...                                                 \n",
       "6463                                         218.803990                                                 \n",
       "6464                                         218.915348                                                 \n",
       "6465                                         218.663565                                                 \n",
       "6466                                         218.323865                                                 \n",
       "6467                                         218.567461                                                 \n",
       "\n",
       "      DALYs (Disability-Adjusted Life Years) - Anxiety disorders - Sex: Both - Age: 15-49 years (Rate)  \\\n",
       "0                                            583.050750                                                  \n",
       "1                                            582.755568                                                  \n",
       "2                                            585.121129                                                  \n",
       "3                                            585.995450                                                  \n",
       "4                                            587.736708                                                  \n",
       "...                                                 ...                                                  \n",
       "6463                                         366.898089                                                  \n",
       "6464                                         367.400269                                                  \n",
       "6465                                         367.898632                                                  \n",
       "6466                                         368.456731                                                  \n",
       "6467                                         369.090140                                                  \n",
       "\n",
       "      DALYs (Disability-Adjusted Life Years) - Anxiety disorders - Sex: Both - Age: 50-69 years (Rate)  \\\n",
       "0                                            453.736877                                                  \n",
       "1                                            453.919631                                                  \n",
       "2                                            456.690054                                                  \n",
       "3                                            459.518593                                                  \n",
       "4                                            459.959994                                                  \n",
       "...                                                 ...                                                  \n",
       "6463                                         308.151268                                                  \n",
       "6464                                         307.741827                                                  \n",
       "6465                                         308.310431                                                  \n",
       "6466                                         308.376755                                                  \n",
       "6467                                         308.281666                                                  \n",
       "\n",
       "      DALYs (Disability-Adjusted Life Years) - Anxiety disorders - Sex: Both - Age: 70+ years (Rate)  \n",
       "0                                            336.764668                                               \n",
       "1                                            336.346214                                               \n",
       "2                                            336.558722                                               \n",
       "3                                            336.870769                                               \n",
       "4                                            337.476586                                               \n",
       "...                                                 ...                                               \n",
       "6463                                         240.396429                                               \n",
       "6464                                         239.889862                                               \n",
       "6465                                         240.390428                                               \n",
       "6466                                         240.443753                                               \n",
       "6467                                         240.719008                                               \n",
       "\n",
       "[6468 rows x 8 columns]"
      ],
      "text/html": "<div>\n<style scoped>\n    .dataframe tbody tr th:only-of-type {\n        vertical-align: middle;\n    }\n\n    .dataframe tbody tr th {\n        vertical-align: top;\n    }\n\n    .dataframe thead th {\n        text-align: right;\n    }\n</style>\n<table border=\"1\" class=\"dataframe\">\n  <thead>\n    <tr style=\"text-align: right;\">\n      <th></th>\n      <th>Entity</th>\n      <th>Code</th>\n      <th>Year</th>\n      <th>DALYs (Disability-Adjusted Life Years) - Anxiety disorders - Sex: Both - Age: Under 5 (Rate)</th>\n      <th>DALYs (Disability-Adjusted Life Years) - Anxiety disorders - Sex: Both - Age: 5-14 years (Rate)</th>\n      <th>DALYs (Disability-Adjusted Life Years) - Anxiety disorders - Sex: Both - Age: 15-49 years (Rate)</th>\n      <th>DALYs (Disability-Adjusted Life Years) - Anxiety disorders - Sex: Both - Age: 50-69 years (Rate)</th>\n      <th>DALYs (Disability-Adjusted Life Years) - Anxiety disorders - Sex: Both - Age: 70+ years (Rate)</th>\n    </tr>\n  </thead>\n  <tbody>\n    <tr>\n      <th>0</th>\n      <td>Afghanistan</td>\n      <td>AFG</td>\n      <td>1990</td>\n      <td>10.851451</td>\n      <td>290.799110</td>\n      <td>583.050750</td>\n      <td>453.736877</td>\n      <td>336.764668</td>\n    </tr>\n    <tr>\n      <th>1</th>\n      <td>Afghanistan</td>\n      <td>AFG</td>\n      <td>1991</td>\n      <td>10.758383</td>\n      <td>287.732096</td>\n      <td>582.755568</td>\n      <td>453.919631</td>\n      <td>336.346214</td>\n    </tr>\n    <tr>\n      <th>2</th>\n      <td>Afghanistan</td>\n      <td>AFG</td>\n      <td>1992</td>\n      <td>10.387921</td>\n      <td>284.531098</td>\n      <td>585.121129</td>\n      <td>456.690054</td>\n      <td>336.558722</td>\n    </tr>\n    <tr>\n      <th>3</th>\n      <td>Afghanistan</td>\n      <td>AFG</td>\n      <td>1993</td>\n      <td>10.289752</td>\n      <td>281.185300</td>\n      <td>585.995450</td>\n      <td>459.518593</td>\n      <td>336.870769</td>\n    </tr>\n    <tr>\n      <th>4</th>\n      <td>Afghanistan</td>\n      <td>AFG</td>\n      <td>1994</td>\n      <td>10.464435</td>\n      <td>278.113533</td>\n      <td>587.736708</td>\n      <td>459.959994</td>\n      <td>337.476586</td>\n    </tr>\n    <tr>\n      <th>...</th>\n      <td>...</td>\n      <td>...</td>\n      <td>...</td>\n      <td>...</td>\n      <td>...</td>\n      <td>...</td>\n      <td>...</td>\n      <td>...</td>\n    </tr>\n    <tr>\n      <th>6463</th>\n      <td>Zimbabwe</td>\n      <td>ZWE</td>\n      <td>2013</td>\n      <td>8.612919</td>\n      <td>218.803990</td>\n      <td>366.898089</td>\n      <td>308.151268</td>\n      <td>240.396429</td>\n    </tr>\n    <tr>\n      <th>6464</th>\n      <td>Zimbabwe</td>\n      <td>ZWE</td>\n      <td>2014</td>\n      <td>8.731586</td>\n      <td>218.915348</td>\n      <td>367.400269</td>\n      <td>307.741827</td>\n      <td>239.889862</td>\n    </tr>\n    <tr>\n      <th>6465</th>\n      <td>Zimbabwe</td>\n      <td>ZWE</td>\n      <td>2015</td>\n      <td>8.646030</td>\n      <td>218.663565</td>\n      <td>367.898632</td>\n      <td>308.310431</td>\n      <td>240.390428</td>\n    </tr>\n    <tr>\n      <th>6466</th>\n      <td>Zimbabwe</td>\n      <td>ZWE</td>\n      <td>2016</td>\n      <td>8.777977</td>\n      <td>218.323865</td>\n      <td>368.456731</td>\n      <td>308.376755</td>\n      <td>240.443753</td>\n    </tr>\n    <tr>\n      <th>6467</th>\n      <td>Zimbabwe</td>\n      <td>ZWE</td>\n      <td>2017</td>\n      <td>8.773549</td>\n      <td>218.567461</td>\n      <td>369.090140</td>\n      <td>308.281666</td>\n      <td>240.719008</td>\n    </tr>\n  </tbody>\n</table>\n<p>6468 rows × 8 columns</p>\n</div>"
     },
     "metadata": {},
     "execution_count": 5
    }
   ],
   "source": [
    "anxiety_df = anxiety_data[[\"Entity\", \"Code\", \"Year\", \"DALYs (Disability-Adjusted Life Years) - Anxiety disorders - Sex: Both - Age: Under 5 (Rate)\", \"DALYs (Disability-Adjusted Life Years) - Anxiety disorders - Sex: Both - Age: 5-14 years (Rate)\", \"DALYs (Disability-Adjusted Life Years) - Anxiety disorders - Sex: Both - Age: 15-49 years (Rate)\", \"DALYs (Disability-Adjusted Life Years) - Anxiety disorders - Sex: Both - Age: 50-69 years (Rate)\", \"DALYs (Disability-Adjusted Life Years) - Anxiety disorders - Sex: Both - Age: 70+ years (Rate)\"]]\n",
    "anxiety_df"
   ]
  },
  {
   "cell_type": "code",
   "execution_count": 6,
   "metadata": {},
   "outputs": [
    {
     "output_type": "execute_result",
     "data": {
      "text/plain": [
       "           Entity Code  Year         -5        5-14       15-49       50-69  \\\n",
       "0     Afghanistan  AFG  1990  10.851451  290.799110  583.050750  453.736877   \n",
       "1     Afghanistan  AFG  1991  10.758383  287.732096  582.755568  453.919631   \n",
       "2     Afghanistan  AFG  1992  10.387921  284.531098  585.121129  456.690054   \n",
       "3     Afghanistan  AFG  1993  10.289752  281.185300  585.995450  459.518593   \n",
       "4     Afghanistan  AFG  1994  10.464435  278.113533  587.736708  459.959994   \n",
       "...           ...  ...   ...        ...         ...         ...         ...   \n",
       "6463     Zimbabwe  ZWE  2013   8.612919  218.803990  366.898089  308.151268   \n",
       "6464     Zimbabwe  ZWE  2014   8.731586  218.915348  367.400269  307.741827   \n",
       "6465     Zimbabwe  ZWE  2015   8.646030  218.663565  367.898632  308.310431   \n",
       "6466     Zimbabwe  ZWE  2016   8.777977  218.323865  368.456731  308.376755   \n",
       "6467     Zimbabwe  ZWE  2017   8.773549  218.567461  369.090140  308.281666   \n",
       "\n",
       "             70+  \n",
       "0     336.764668  \n",
       "1     336.346214  \n",
       "2     336.558722  \n",
       "3     336.870769  \n",
       "4     337.476586  \n",
       "...          ...  \n",
       "6463  240.396429  \n",
       "6464  239.889862  \n",
       "6465  240.390428  \n",
       "6466  240.443753  \n",
       "6467  240.719008  \n",
       "\n",
       "[6468 rows x 8 columns]"
      ],
      "text/html": "<div>\n<style scoped>\n    .dataframe tbody tr th:only-of-type {\n        vertical-align: middle;\n    }\n\n    .dataframe tbody tr th {\n        vertical-align: top;\n    }\n\n    .dataframe thead th {\n        text-align: right;\n    }\n</style>\n<table border=\"1\" class=\"dataframe\">\n  <thead>\n    <tr style=\"text-align: right;\">\n      <th></th>\n      <th>Entity</th>\n      <th>Code</th>\n      <th>Year</th>\n      <th>-5</th>\n      <th>5-14</th>\n      <th>15-49</th>\n      <th>50-69</th>\n      <th>70+</th>\n    </tr>\n  </thead>\n  <tbody>\n    <tr>\n      <th>0</th>\n      <td>Afghanistan</td>\n      <td>AFG</td>\n      <td>1990</td>\n      <td>10.851451</td>\n      <td>290.799110</td>\n      <td>583.050750</td>\n      <td>453.736877</td>\n      <td>336.764668</td>\n    </tr>\n    <tr>\n      <th>1</th>\n      <td>Afghanistan</td>\n      <td>AFG</td>\n      <td>1991</td>\n      <td>10.758383</td>\n      <td>287.732096</td>\n      <td>582.755568</td>\n      <td>453.919631</td>\n      <td>336.346214</td>\n    </tr>\n    <tr>\n      <th>2</th>\n      <td>Afghanistan</td>\n      <td>AFG</td>\n      <td>1992</td>\n      <td>10.387921</td>\n      <td>284.531098</td>\n      <td>585.121129</td>\n      <td>456.690054</td>\n      <td>336.558722</td>\n    </tr>\n    <tr>\n      <th>3</th>\n      <td>Afghanistan</td>\n      <td>AFG</td>\n      <td>1993</td>\n      <td>10.289752</td>\n      <td>281.185300</td>\n      <td>585.995450</td>\n      <td>459.518593</td>\n      <td>336.870769</td>\n    </tr>\n    <tr>\n      <th>4</th>\n      <td>Afghanistan</td>\n      <td>AFG</td>\n      <td>1994</td>\n      <td>10.464435</td>\n      <td>278.113533</td>\n      <td>587.736708</td>\n      <td>459.959994</td>\n      <td>337.476586</td>\n    </tr>\n    <tr>\n      <th>...</th>\n      <td>...</td>\n      <td>...</td>\n      <td>...</td>\n      <td>...</td>\n      <td>...</td>\n      <td>...</td>\n      <td>...</td>\n      <td>...</td>\n    </tr>\n    <tr>\n      <th>6463</th>\n      <td>Zimbabwe</td>\n      <td>ZWE</td>\n      <td>2013</td>\n      <td>8.612919</td>\n      <td>218.803990</td>\n      <td>366.898089</td>\n      <td>308.151268</td>\n      <td>240.396429</td>\n    </tr>\n    <tr>\n      <th>6464</th>\n      <td>Zimbabwe</td>\n      <td>ZWE</td>\n      <td>2014</td>\n      <td>8.731586</td>\n      <td>218.915348</td>\n      <td>367.400269</td>\n      <td>307.741827</td>\n      <td>239.889862</td>\n    </tr>\n    <tr>\n      <th>6465</th>\n      <td>Zimbabwe</td>\n      <td>ZWE</td>\n      <td>2015</td>\n      <td>8.646030</td>\n      <td>218.663565</td>\n      <td>367.898632</td>\n      <td>308.310431</td>\n      <td>240.390428</td>\n    </tr>\n    <tr>\n      <th>6466</th>\n      <td>Zimbabwe</td>\n      <td>ZWE</td>\n      <td>2016</td>\n      <td>8.777977</td>\n      <td>218.323865</td>\n      <td>368.456731</td>\n      <td>308.376755</td>\n      <td>240.443753</td>\n    </tr>\n    <tr>\n      <th>6467</th>\n      <td>Zimbabwe</td>\n      <td>ZWE</td>\n      <td>2017</td>\n      <td>8.773549</td>\n      <td>218.567461</td>\n      <td>369.090140</td>\n      <td>308.281666</td>\n      <td>240.719008</td>\n    </tr>\n  </tbody>\n</table>\n<p>6468 rows × 8 columns</p>\n</div>"
     },
     "metadata": {},
     "execution_count": 6
    }
   ],
   "source": [
    "anxiety_df.columns = [\"Entity\", \"Code\", \"Year\", \"-5\", \"5-14\", \"15-49\", \"50-69\", \"70+\"]\n",
    "anxiety_df"
   ]
  },
  {
   "cell_type": "code",
   "execution_count": 7,
   "metadata": {},
   "outputs": [
    {
     "output_type": "execute_result",
     "data": {
      "text/plain": [
       "Index(['Entity', 'Code', 'Year',\n",
       "       'DALYs (Disability-Adjusted Life Years) - Depressive disorders - Sex: Both - Age: Under 5 (Rate)',\n",
       "       'DALYs (Disability-Adjusted Life Years) - Depressive disorders - Sex: Both - Age: 5-14 years (Rate)',\n",
       "       'DALYs (Disability-Adjusted Life Years) - Depressive disorders - Sex: Both - Age: 15-49 years (Rate)',\n",
       "       'DALYs (Disability-Adjusted Life Years) - Depressive disorders - Sex: Both - Age: 50-69 years (Rate)',\n",
       "       'DALYs (Disability-Adjusted Life Years) - Depressive disorders - Sex: Both - Age: 70+ years (Rate)',\n",
       "       'DALYs (Disability-Adjusted Life Years) - Depressive disorders - Sex: Both - Age: All Ages (Rate)',\n",
       "       'DALYs (Disability-Adjusted Life Years) - Depressive disorders - Sex: Both - Age: Age-standardized (Rate)'],\n",
       "      dtype='object')"
      ]
     },
     "metadata": {},
     "execution_count": 7
    }
   ],
   "source": [
    "depression_data.columns"
   ]
  },
  {
   "cell_type": "code",
   "execution_count": 8,
   "metadata": {},
   "outputs": [
    {
     "output_type": "execute_result",
     "data": {
      "text/plain": [
       "           Entity Code  Year  \\\n",
       "0     Afghanistan  AFG  1990   \n",
       "1     Afghanistan  AFG  1991   \n",
       "2     Afghanistan  AFG  1992   \n",
       "3     Afghanistan  AFG  1993   \n",
       "4     Afghanistan  AFG  1994   \n",
       "...           ...  ...   ...   \n",
       "6463     Zimbabwe  ZWE  2013   \n",
       "6464     Zimbabwe  ZWE  2014   \n",
       "6465     Zimbabwe  ZWE  2015   \n",
       "6466     Zimbabwe  ZWE  2016   \n",
       "6467     Zimbabwe  ZWE  2017   \n",
       "\n",
       "      DALYs (Disability-Adjusted Life Years) - Depressive disorders - Sex: Both - Age: Under 5 (Rate)  \\\n",
       "0                                              0.271187                                                 \n",
       "1                                              0.268624                                                 \n",
       "2                                              0.260249                                                 \n",
       "3                                              0.258343                                                 \n",
       "4                                              0.263607                                                 \n",
       "...                                                 ...                                                 \n",
       "6463                                           0.207890                                                 \n",
       "6464                                           0.208552                                                 \n",
       "6465                                           0.209203                                                 \n",
       "6466                                           0.209759                                                 \n",
       "6467                                           0.210091                                                 \n",
       "\n",
       "      DALYs (Disability-Adjusted Life Years) - Depressive disorders - Sex: Both - Age: 5-14 years (Rate)  \\\n",
       "0                                            171.879841                                                    \n",
       "1                                            166.950366                                                    \n",
       "2                                            162.987003                                                    \n",
       "3                                            159.584534                                                    \n",
       "4                                            155.962684                                                    \n",
       "...                                                 ...                                                    \n",
       "6463                                          99.998684                                                    \n",
       "6464                                         100.062666                                                    \n",
       "6465                                          99.655702                                                    \n",
       "6466                                          99.808751                                                    \n",
       "6467                                          99.256370                                                    \n",
       "\n",
       "      DALYs (Disability-Adjusted Life Years) - Depressive disorders - Sex: Both - Age: 15-49 years (Rate)  \\\n",
       "0                                            875.280470                                                     \n",
       "1                                            870.018856                                                     \n",
       "2                                            859.514720                                                     \n",
       "3                                            856.438776                                                     \n",
       "4                                            861.397337                                                     \n",
       "...                                                 ...                                                     \n",
       "6463                                         510.320566                                                     \n",
       "6464                                         514.009756                                                     \n",
       "6465                                         518.964077                                                     \n",
       "6466                                         523.691812                                                     \n",
       "6467                                         528.616947                                                     \n",
       "\n",
       "      DALYs (Disability-Adjusted Life Years) - Depressive disorders - Sex: Both - Age: 50-69 years (Rate)  \\\n",
       "0                                            950.293471                                                     \n",
       "1                                            950.792194                                                     \n",
       "2                                            954.455355                                                     \n",
       "3                                            957.746985                                                     \n",
       "4                                            958.766015                                                     \n",
       "...                                                 ...                                                     \n",
       "6463                                         896.809679                                                     \n",
       "6464                                         901.387971                                                     \n",
       "6465                                         905.877422                                                     \n",
       "6466                                         911.817819                                                     \n",
       "6467                                         917.890919                                                     \n",
       "\n",
       "      DALYs (Disability-Adjusted Life Years) - Depressive disorders - Sex: Both - Age: 70+ years (Rate)  \n",
       "0                                            766.893212                                                  \n",
       "1                                            765.393867                                                  \n",
       "2                                            762.681493                                                  \n",
       "3                                            760.617836                                                  \n",
       "4                                            759.161396                                                  \n",
       "...                                                 ...                                                  \n",
       "6463                                        1175.721573                                                  \n",
       "6464                                        1179.094335                                                  \n",
       "6465                                        1183.005990                                                  \n",
       "6466                                        1185.139894                                                  \n",
       "6467                                        1189.683420                                                  \n",
       "\n",
       "[6468 rows x 8 columns]"
      ],
      "text/html": "<div>\n<style scoped>\n    .dataframe tbody tr th:only-of-type {\n        vertical-align: middle;\n    }\n\n    .dataframe tbody tr th {\n        vertical-align: top;\n    }\n\n    .dataframe thead th {\n        text-align: right;\n    }\n</style>\n<table border=\"1\" class=\"dataframe\">\n  <thead>\n    <tr style=\"text-align: right;\">\n      <th></th>\n      <th>Entity</th>\n      <th>Code</th>\n      <th>Year</th>\n      <th>DALYs (Disability-Adjusted Life Years) - Depressive disorders - Sex: Both - Age: Under 5 (Rate)</th>\n      <th>DALYs (Disability-Adjusted Life Years) - Depressive disorders - Sex: Both - Age: 5-14 years (Rate)</th>\n      <th>DALYs (Disability-Adjusted Life Years) - Depressive disorders - Sex: Both - Age: 15-49 years (Rate)</th>\n      <th>DALYs (Disability-Adjusted Life Years) - Depressive disorders - Sex: Both - Age: 50-69 years (Rate)</th>\n      <th>DALYs (Disability-Adjusted Life Years) - Depressive disorders - Sex: Both - Age: 70+ years (Rate)</th>\n    </tr>\n  </thead>\n  <tbody>\n    <tr>\n      <th>0</th>\n      <td>Afghanistan</td>\n      <td>AFG</td>\n      <td>1990</td>\n      <td>0.271187</td>\n      <td>171.879841</td>\n      <td>875.280470</td>\n      <td>950.293471</td>\n      <td>766.893212</td>\n    </tr>\n    <tr>\n      <th>1</th>\n      <td>Afghanistan</td>\n      <td>AFG</td>\n      <td>1991</td>\n      <td>0.268624</td>\n      <td>166.950366</td>\n      <td>870.018856</td>\n      <td>950.792194</td>\n      <td>765.393867</td>\n    </tr>\n    <tr>\n      <th>2</th>\n      <td>Afghanistan</td>\n      <td>AFG</td>\n      <td>1992</td>\n      <td>0.260249</td>\n      <td>162.987003</td>\n      <td>859.514720</td>\n      <td>954.455355</td>\n      <td>762.681493</td>\n    </tr>\n    <tr>\n      <th>3</th>\n      <td>Afghanistan</td>\n      <td>AFG</td>\n      <td>1993</td>\n      <td>0.258343</td>\n      <td>159.584534</td>\n      <td>856.438776</td>\n      <td>957.746985</td>\n      <td>760.617836</td>\n    </tr>\n    <tr>\n      <th>4</th>\n      <td>Afghanistan</td>\n      <td>AFG</td>\n      <td>1994</td>\n      <td>0.263607</td>\n      <td>155.962684</td>\n      <td>861.397337</td>\n      <td>958.766015</td>\n      <td>759.161396</td>\n    </tr>\n    <tr>\n      <th>...</th>\n      <td>...</td>\n      <td>...</td>\n      <td>...</td>\n      <td>...</td>\n      <td>...</td>\n      <td>...</td>\n      <td>...</td>\n      <td>...</td>\n    </tr>\n    <tr>\n      <th>6463</th>\n      <td>Zimbabwe</td>\n      <td>ZWE</td>\n      <td>2013</td>\n      <td>0.207890</td>\n      <td>99.998684</td>\n      <td>510.320566</td>\n      <td>896.809679</td>\n      <td>1175.721573</td>\n    </tr>\n    <tr>\n      <th>6464</th>\n      <td>Zimbabwe</td>\n      <td>ZWE</td>\n      <td>2014</td>\n      <td>0.208552</td>\n      <td>100.062666</td>\n      <td>514.009756</td>\n      <td>901.387971</td>\n      <td>1179.094335</td>\n    </tr>\n    <tr>\n      <th>6465</th>\n      <td>Zimbabwe</td>\n      <td>ZWE</td>\n      <td>2015</td>\n      <td>0.209203</td>\n      <td>99.655702</td>\n      <td>518.964077</td>\n      <td>905.877422</td>\n      <td>1183.005990</td>\n    </tr>\n    <tr>\n      <th>6466</th>\n      <td>Zimbabwe</td>\n      <td>ZWE</td>\n      <td>2016</td>\n      <td>0.209759</td>\n      <td>99.808751</td>\n      <td>523.691812</td>\n      <td>911.817819</td>\n      <td>1185.139894</td>\n    </tr>\n    <tr>\n      <th>6467</th>\n      <td>Zimbabwe</td>\n      <td>ZWE</td>\n      <td>2017</td>\n      <td>0.210091</td>\n      <td>99.256370</td>\n      <td>528.616947</td>\n      <td>917.890919</td>\n      <td>1189.683420</td>\n    </tr>\n  </tbody>\n</table>\n<p>6468 rows × 8 columns</p>\n</div>"
     },
     "metadata": {},
     "execution_count": 8
    }
   ],
   "source": [
    "depression_df = depression_data[[\"Entity\", \"Code\", \"Year\", \"DALYs (Disability-Adjusted Life Years) - Depressive disorders - Sex: Both - Age: Under 5 (Rate)\", \"DALYs (Disability-Adjusted Life Years) - Depressive disorders - Sex: Both - Age: 5-14 years (Rate)\", \"DALYs (Disability-Adjusted Life Years) - Depressive disorders - Sex: Both - Age: 15-49 years (Rate)\", \"DALYs (Disability-Adjusted Life Years) - Depressive disorders - Sex: Both - Age: 50-69 years (Rate)\", \"DALYs (Disability-Adjusted Life Years) - Depressive disorders - Sex: Both - Age: 70+ years (Rate)\"]]\n",
    "depression_df"
   ]
  },
  {
   "cell_type": "code",
   "execution_count": 9,
   "metadata": {},
   "outputs": [
    {
     "output_type": "execute_result",
     "data": {
      "text/plain": [
       "           Entity Code  Year        -5        5-14       15-49       50-69  \\\n",
       "0     Afghanistan  AFG  1990  0.271187  171.879841  875.280470  950.293471   \n",
       "1     Afghanistan  AFG  1991  0.268624  166.950366  870.018856  950.792194   \n",
       "2     Afghanistan  AFG  1992  0.260249  162.987003  859.514720  954.455355   \n",
       "3     Afghanistan  AFG  1993  0.258343  159.584534  856.438776  957.746985   \n",
       "4     Afghanistan  AFG  1994  0.263607  155.962684  861.397337  958.766015   \n",
       "...           ...  ...   ...       ...         ...         ...         ...   \n",
       "6463     Zimbabwe  ZWE  2013  0.207890   99.998684  510.320566  896.809679   \n",
       "6464     Zimbabwe  ZWE  2014  0.208552  100.062666  514.009756  901.387971   \n",
       "6465     Zimbabwe  ZWE  2015  0.209203   99.655702  518.964077  905.877422   \n",
       "6466     Zimbabwe  ZWE  2016  0.209759   99.808751  523.691812  911.817819   \n",
       "6467     Zimbabwe  ZWE  2017  0.210091   99.256370  528.616947  917.890919   \n",
       "\n",
       "              70+  \n",
       "0      766.893212  \n",
       "1      765.393867  \n",
       "2      762.681493  \n",
       "3      760.617836  \n",
       "4      759.161396  \n",
       "...           ...  \n",
       "6463  1175.721573  \n",
       "6464  1179.094335  \n",
       "6465  1183.005990  \n",
       "6466  1185.139894  \n",
       "6467  1189.683420  \n",
       "\n",
       "[6468 rows x 8 columns]"
      ],
      "text/html": "<div>\n<style scoped>\n    .dataframe tbody tr th:only-of-type {\n        vertical-align: middle;\n    }\n\n    .dataframe tbody tr th {\n        vertical-align: top;\n    }\n\n    .dataframe thead th {\n        text-align: right;\n    }\n</style>\n<table border=\"1\" class=\"dataframe\">\n  <thead>\n    <tr style=\"text-align: right;\">\n      <th></th>\n      <th>Entity</th>\n      <th>Code</th>\n      <th>Year</th>\n      <th>-5</th>\n      <th>5-14</th>\n      <th>15-49</th>\n      <th>50-69</th>\n      <th>70+</th>\n    </tr>\n  </thead>\n  <tbody>\n    <tr>\n      <th>0</th>\n      <td>Afghanistan</td>\n      <td>AFG</td>\n      <td>1990</td>\n      <td>0.271187</td>\n      <td>171.879841</td>\n      <td>875.280470</td>\n      <td>950.293471</td>\n      <td>766.893212</td>\n    </tr>\n    <tr>\n      <th>1</th>\n      <td>Afghanistan</td>\n      <td>AFG</td>\n      <td>1991</td>\n      <td>0.268624</td>\n      <td>166.950366</td>\n      <td>870.018856</td>\n      <td>950.792194</td>\n      <td>765.393867</td>\n    </tr>\n    <tr>\n      <th>2</th>\n      <td>Afghanistan</td>\n      <td>AFG</td>\n      <td>1992</td>\n      <td>0.260249</td>\n      <td>162.987003</td>\n      <td>859.514720</td>\n      <td>954.455355</td>\n      <td>762.681493</td>\n    </tr>\n    <tr>\n      <th>3</th>\n      <td>Afghanistan</td>\n      <td>AFG</td>\n      <td>1993</td>\n      <td>0.258343</td>\n      <td>159.584534</td>\n      <td>856.438776</td>\n      <td>957.746985</td>\n      <td>760.617836</td>\n    </tr>\n    <tr>\n      <th>4</th>\n      <td>Afghanistan</td>\n      <td>AFG</td>\n      <td>1994</td>\n      <td>0.263607</td>\n      <td>155.962684</td>\n      <td>861.397337</td>\n      <td>958.766015</td>\n      <td>759.161396</td>\n    </tr>\n    <tr>\n      <th>...</th>\n      <td>...</td>\n      <td>...</td>\n      <td>...</td>\n      <td>...</td>\n      <td>...</td>\n      <td>...</td>\n      <td>...</td>\n      <td>...</td>\n    </tr>\n    <tr>\n      <th>6463</th>\n      <td>Zimbabwe</td>\n      <td>ZWE</td>\n      <td>2013</td>\n      <td>0.207890</td>\n      <td>99.998684</td>\n      <td>510.320566</td>\n      <td>896.809679</td>\n      <td>1175.721573</td>\n    </tr>\n    <tr>\n      <th>6464</th>\n      <td>Zimbabwe</td>\n      <td>ZWE</td>\n      <td>2014</td>\n      <td>0.208552</td>\n      <td>100.062666</td>\n      <td>514.009756</td>\n      <td>901.387971</td>\n      <td>1179.094335</td>\n    </tr>\n    <tr>\n      <th>6465</th>\n      <td>Zimbabwe</td>\n      <td>ZWE</td>\n      <td>2015</td>\n      <td>0.209203</td>\n      <td>99.655702</td>\n      <td>518.964077</td>\n      <td>905.877422</td>\n      <td>1183.005990</td>\n    </tr>\n    <tr>\n      <th>6466</th>\n      <td>Zimbabwe</td>\n      <td>ZWE</td>\n      <td>2016</td>\n      <td>0.209759</td>\n      <td>99.808751</td>\n      <td>523.691812</td>\n      <td>911.817819</td>\n      <td>1185.139894</td>\n    </tr>\n    <tr>\n      <th>6467</th>\n      <td>Zimbabwe</td>\n      <td>ZWE</td>\n      <td>2017</td>\n      <td>0.210091</td>\n      <td>99.256370</td>\n      <td>528.616947</td>\n      <td>917.890919</td>\n      <td>1189.683420</td>\n    </tr>\n  </tbody>\n</table>\n<p>6468 rows × 8 columns</p>\n</div>"
     },
     "metadata": {},
     "execution_count": 9
    }
   ],
   "source": [
    "depression_df.columns = [\"Entity\", \"Code\", \"Year\", \"-5\", \"5-14\", \"15-49\", \"50-69\", \"70+\"]\n",
    "depression_df"
   ]
  },
  {
   "cell_type": "code",
   "execution_count": 10,
   "metadata": {},
   "outputs": [
    {
     "output_type": "execute_result",
     "data": {
      "text/plain": [
       "         Entity_x Code_x  Year_x       -5_x      5-14_x     15-49_x  \\\n",
       "0     Afghanistan    AFG    1990  10.851451  290.799110  583.050750   \n",
       "1     Afghanistan    AFG    1991  10.758383  287.732096  582.755568   \n",
       "2     Afghanistan    AFG    1992  10.387921  284.531098  585.121129   \n",
       "3     Afghanistan    AFG    1993  10.289752  281.185300  585.995450   \n",
       "4     Afghanistan    AFG    1994  10.464435  278.113533  587.736708   \n",
       "...           ...    ...     ...        ...         ...         ...   \n",
       "6463     Zimbabwe    ZWE    2013   8.612919  218.803990  366.898089   \n",
       "6464     Zimbabwe    ZWE    2014   8.731586  218.915348  367.400269   \n",
       "6465     Zimbabwe    ZWE    2015   8.646030  218.663565  367.898632   \n",
       "6466     Zimbabwe    ZWE    2016   8.777977  218.323865  368.456731   \n",
       "6467     Zimbabwe    ZWE    2017   8.773549  218.567461  369.090140   \n",
       "\n",
       "         50-69_x       70+_x     Entity_y Code_y  Year_y      -5_y  \\\n",
       "0     453.736877  336.764668  Afghanistan    AFG    1990  0.271187   \n",
       "1     453.919631  336.346214  Afghanistan    AFG    1991  0.268624   \n",
       "2     456.690054  336.558722  Afghanistan    AFG    1992  0.260249   \n",
       "3     459.518593  336.870769  Afghanistan    AFG    1993  0.258343   \n",
       "4     459.959994  337.476586  Afghanistan    AFG    1994  0.263607   \n",
       "...          ...         ...          ...    ...     ...       ...   \n",
       "6463  308.151268  240.396429     Zimbabwe    ZWE    2013  0.207890   \n",
       "6464  307.741827  239.889862     Zimbabwe    ZWE    2014  0.208552   \n",
       "6465  308.310431  240.390428     Zimbabwe    ZWE    2015  0.209203   \n",
       "6466  308.376755  240.443753     Zimbabwe    ZWE    2016  0.209759   \n",
       "6467  308.281666  240.719008     Zimbabwe    ZWE    2017  0.210091   \n",
       "\n",
       "          5-14_y     15-49_y     50-69_y        70+_y  \n",
       "0     171.879841  875.280470  950.293471   766.893212  \n",
       "1     166.950366  870.018856  950.792194   765.393867  \n",
       "2     162.987003  859.514720  954.455355   762.681493  \n",
       "3     159.584534  856.438776  957.746985   760.617836  \n",
       "4     155.962684  861.397337  958.766015   759.161396  \n",
       "...          ...         ...         ...          ...  \n",
       "6463   99.998684  510.320566  896.809679  1175.721573  \n",
       "6464  100.062666  514.009756  901.387971  1179.094335  \n",
       "6465   99.655702  518.964077  905.877422  1183.005990  \n",
       "6466   99.808751  523.691812  911.817819  1185.139894  \n",
       "6467   99.256370  528.616947  917.890919  1189.683420  \n",
       "\n",
       "[6468 rows x 16 columns]"
      ],
      "text/html": "<div>\n<style scoped>\n    .dataframe tbody tr th:only-of-type {\n        vertical-align: middle;\n    }\n\n    .dataframe tbody tr th {\n        vertical-align: top;\n    }\n\n    .dataframe thead th {\n        text-align: right;\n    }\n</style>\n<table border=\"1\" class=\"dataframe\">\n  <thead>\n    <tr style=\"text-align: right;\">\n      <th></th>\n      <th>Entity_x</th>\n      <th>Code_x</th>\n      <th>Year_x</th>\n      <th>-5_x</th>\n      <th>5-14_x</th>\n      <th>15-49_x</th>\n      <th>50-69_x</th>\n      <th>70+_x</th>\n      <th>Entity_y</th>\n      <th>Code_y</th>\n      <th>Year_y</th>\n      <th>-5_y</th>\n      <th>5-14_y</th>\n      <th>15-49_y</th>\n      <th>50-69_y</th>\n      <th>70+_y</th>\n    </tr>\n  </thead>\n  <tbody>\n    <tr>\n      <th>0</th>\n      <td>Afghanistan</td>\n      <td>AFG</td>\n      <td>1990</td>\n      <td>10.851451</td>\n      <td>290.799110</td>\n      <td>583.050750</td>\n      <td>453.736877</td>\n      <td>336.764668</td>\n      <td>Afghanistan</td>\n      <td>AFG</td>\n      <td>1990</td>\n      <td>0.271187</td>\n      <td>171.879841</td>\n      <td>875.280470</td>\n      <td>950.293471</td>\n      <td>766.893212</td>\n    </tr>\n    <tr>\n      <th>1</th>\n      <td>Afghanistan</td>\n      <td>AFG</td>\n      <td>1991</td>\n      <td>10.758383</td>\n      <td>287.732096</td>\n      <td>582.755568</td>\n      <td>453.919631</td>\n      <td>336.346214</td>\n      <td>Afghanistan</td>\n      <td>AFG</td>\n      <td>1991</td>\n      <td>0.268624</td>\n      <td>166.950366</td>\n      <td>870.018856</td>\n      <td>950.792194</td>\n      <td>765.393867</td>\n    </tr>\n    <tr>\n      <th>2</th>\n      <td>Afghanistan</td>\n      <td>AFG</td>\n      <td>1992</td>\n      <td>10.387921</td>\n      <td>284.531098</td>\n      <td>585.121129</td>\n      <td>456.690054</td>\n      <td>336.558722</td>\n      <td>Afghanistan</td>\n      <td>AFG</td>\n      <td>1992</td>\n      <td>0.260249</td>\n      <td>162.987003</td>\n      <td>859.514720</td>\n      <td>954.455355</td>\n      <td>762.681493</td>\n    </tr>\n    <tr>\n      <th>3</th>\n      <td>Afghanistan</td>\n      <td>AFG</td>\n      <td>1993</td>\n      <td>10.289752</td>\n      <td>281.185300</td>\n      <td>585.995450</td>\n      <td>459.518593</td>\n      <td>336.870769</td>\n      <td>Afghanistan</td>\n      <td>AFG</td>\n      <td>1993</td>\n      <td>0.258343</td>\n      <td>159.584534</td>\n      <td>856.438776</td>\n      <td>957.746985</td>\n      <td>760.617836</td>\n    </tr>\n    <tr>\n      <th>4</th>\n      <td>Afghanistan</td>\n      <td>AFG</td>\n      <td>1994</td>\n      <td>10.464435</td>\n      <td>278.113533</td>\n      <td>587.736708</td>\n      <td>459.959994</td>\n      <td>337.476586</td>\n      <td>Afghanistan</td>\n      <td>AFG</td>\n      <td>1994</td>\n      <td>0.263607</td>\n      <td>155.962684</td>\n      <td>861.397337</td>\n      <td>958.766015</td>\n      <td>759.161396</td>\n    </tr>\n    <tr>\n      <th>...</th>\n      <td>...</td>\n      <td>...</td>\n      <td>...</td>\n      <td>...</td>\n      <td>...</td>\n      <td>...</td>\n      <td>...</td>\n      <td>...</td>\n      <td>...</td>\n      <td>...</td>\n      <td>...</td>\n      <td>...</td>\n      <td>...</td>\n      <td>...</td>\n      <td>...</td>\n      <td>...</td>\n    </tr>\n    <tr>\n      <th>6463</th>\n      <td>Zimbabwe</td>\n      <td>ZWE</td>\n      <td>2013</td>\n      <td>8.612919</td>\n      <td>218.803990</td>\n      <td>366.898089</td>\n      <td>308.151268</td>\n      <td>240.396429</td>\n      <td>Zimbabwe</td>\n      <td>ZWE</td>\n      <td>2013</td>\n      <td>0.207890</td>\n      <td>99.998684</td>\n      <td>510.320566</td>\n      <td>896.809679</td>\n      <td>1175.721573</td>\n    </tr>\n    <tr>\n      <th>6464</th>\n      <td>Zimbabwe</td>\n      <td>ZWE</td>\n      <td>2014</td>\n      <td>8.731586</td>\n      <td>218.915348</td>\n      <td>367.400269</td>\n      <td>307.741827</td>\n      <td>239.889862</td>\n      <td>Zimbabwe</td>\n      <td>ZWE</td>\n      <td>2014</td>\n      <td>0.208552</td>\n      <td>100.062666</td>\n      <td>514.009756</td>\n      <td>901.387971</td>\n      <td>1179.094335</td>\n    </tr>\n    <tr>\n      <th>6465</th>\n      <td>Zimbabwe</td>\n      <td>ZWE</td>\n      <td>2015</td>\n      <td>8.646030</td>\n      <td>218.663565</td>\n      <td>367.898632</td>\n      <td>308.310431</td>\n      <td>240.390428</td>\n      <td>Zimbabwe</td>\n      <td>ZWE</td>\n      <td>2015</td>\n      <td>0.209203</td>\n      <td>99.655702</td>\n      <td>518.964077</td>\n      <td>905.877422</td>\n      <td>1183.005990</td>\n    </tr>\n    <tr>\n      <th>6466</th>\n      <td>Zimbabwe</td>\n      <td>ZWE</td>\n      <td>2016</td>\n      <td>8.777977</td>\n      <td>218.323865</td>\n      <td>368.456731</td>\n      <td>308.376755</td>\n      <td>240.443753</td>\n      <td>Zimbabwe</td>\n      <td>ZWE</td>\n      <td>2016</td>\n      <td>0.209759</td>\n      <td>99.808751</td>\n      <td>523.691812</td>\n      <td>911.817819</td>\n      <td>1185.139894</td>\n    </tr>\n    <tr>\n      <th>6467</th>\n      <td>Zimbabwe</td>\n      <td>ZWE</td>\n      <td>2017</td>\n      <td>8.773549</td>\n      <td>218.567461</td>\n      <td>369.090140</td>\n      <td>308.281666</td>\n      <td>240.719008</td>\n      <td>Zimbabwe</td>\n      <td>ZWE</td>\n      <td>2017</td>\n      <td>0.210091</td>\n      <td>99.256370</td>\n      <td>528.616947</td>\n      <td>917.890919</td>\n      <td>1189.683420</td>\n    </tr>\n  </tbody>\n</table>\n<p>6468 rows × 16 columns</p>\n</div>"
     },
     "metadata": {},
     "execution_count": 10
    }
   ],
   "source": [
    "# Combine the data into a single dataset\n",
    "mhdata_combined = anxiety_df.merge(depression_df, left_index=True, right_index=True)\n",
    "mhdata_combined"
   ]
  },
  {
   "cell_type": "code",
   "execution_count": 11,
   "metadata": {},
   "outputs": [
    {
     "output_type": "execute_result",
     "data": {
      "text/plain": [
       "           Entity Code  Year       A_-5    D_-5_y      A_5-14      D_5-14  \\\n",
       "0     Afghanistan  AFG  1990  10.851451  0.271187  290.799110  171.879841   \n",
       "1     Afghanistan  AFG  1991  10.758383  0.268624  287.732096  166.950366   \n",
       "2     Afghanistan  AFG  1992  10.387921  0.260249  284.531098  162.987003   \n",
       "3     Afghanistan  AFG  1993  10.289752  0.258343  281.185300  159.584534   \n",
       "4     Afghanistan  AFG  1994  10.464435  0.263607  278.113533  155.962684   \n",
       "...           ...  ...   ...        ...       ...         ...         ...   \n",
       "6463     Zimbabwe  ZWE  2013   8.612919  0.207890  218.803990   99.998684   \n",
       "6464     Zimbabwe  ZWE  2014   8.731586  0.208552  218.915348  100.062666   \n",
       "6465     Zimbabwe  ZWE  2015   8.646030  0.209203  218.663565   99.655702   \n",
       "6466     Zimbabwe  ZWE  2016   8.777977  0.209759  218.323865   99.808751   \n",
       "6467     Zimbabwe  ZWE  2017   8.773549  0.210091  218.567461   99.256370   \n",
       "\n",
       "         A_15-49     D_15-49     A_50-69     D_50-69       A_70+        D_70+  \n",
       "0     583.050750  875.280470  453.736877  950.293471  336.764668   766.893212  \n",
       "1     582.755568  870.018856  453.919631  950.792194  336.346214   765.393867  \n",
       "2     585.121129  859.514720  456.690054  954.455355  336.558722   762.681493  \n",
       "3     585.995450  856.438776  459.518593  957.746985  336.870769   760.617836  \n",
       "4     587.736708  861.397337  459.959994  958.766015  337.476586   759.161396  \n",
       "...          ...         ...         ...         ...         ...          ...  \n",
       "6463  366.898089  510.320566  308.151268  896.809679  240.396429  1175.721573  \n",
       "6464  367.400269  514.009756  307.741827  901.387971  239.889862  1179.094335  \n",
       "6465  367.898632  518.964077  308.310431  905.877422  240.390428  1183.005990  \n",
       "6466  368.456731  523.691812  308.376755  911.817819  240.443753  1185.139894  \n",
       "6467  369.090140  528.616947  308.281666  917.890919  240.719008  1189.683420  \n",
       "\n",
       "[6468 rows x 13 columns]"
      ],
      "text/html": "<div>\n<style scoped>\n    .dataframe tbody tr th:only-of-type {\n        vertical-align: middle;\n    }\n\n    .dataframe tbody tr th {\n        vertical-align: top;\n    }\n\n    .dataframe thead th {\n        text-align: right;\n    }\n</style>\n<table border=\"1\" class=\"dataframe\">\n  <thead>\n    <tr style=\"text-align: right;\">\n      <th></th>\n      <th>Entity</th>\n      <th>Code</th>\n      <th>Year</th>\n      <th>A_-5</th>\n      <th>D_-5_y</th>\n      <th>A_5-14</th>\n      <th>D_5-14</th>\n      <th>A_15-49</th>\n      <th>D_15-49</th>\n      <th>A_50-69</th>\n      <th>D_50-69</th>\n      <th>A_70+</th>\n      <th>D_70+</th>\n    </tr>\n  </thead>\n  <tbody>\n    <tr>\n      <th>0</th>\n      <td>Afghanistan</td>\n      <td>AFG</td>\n      <td>1990</td>\n      <td>10.851451</td>\n      <td>0.271187</td>\n      <td>290.799110</td>\n      <td>171.879841</td>\n      <td>583.050750</td>\n      <td>875.280470</td>\n      <td>453.736877</td>\n      <td>950.293471</td>\n      <td>336.764668</td>\n      <td>766.893212</td>\n    </tr>\n    <tr>\n      <th>1</th>\n      <td>Afghanistan</td>\n      <td>AFG</td>\n      <td>1991</td>\n      <td>10.758383</td>\n      <td>0.268624</td>\n      <td>287.732096</td>\n      <td>166.950366</td>\n      <td>582.755568</td>\n      <td>870.018856</td>\n      <td>453.919631</td>\n      <td>950.792194</td>\n      <td>336.346214</td>\n      <td>765.393867</td>\n    </tr>\n    <tr>\n      <th>2</th>\n      <td>Afghanistan</td>\n      <td>AFG</td>\n      <td>1992</td>\n      <td>10.387921</td>\n      <td>0.260249</td>\n      <td>284.531098</td>\n      <td>162.987003</td>\n      <td>585.121129</td>\n      <td>859.514720</td>\n      <td>456.690054</td>\n      <td>954.455355</td>\n      <td>336.558722</td>\n      <td>762.681493</td>\n    </tr>\n    <tr>\n      <th>3</th>\n      <td>Afghanistan</td>\n      <td>AFG</td>\n      <td>1993</td>\n      <td>10.289752</td>\n      <td>0.258343</td>\n      <td>281.185300</td>\n      <td>159.584534</td>\n      <td>585.995450</td>\n      <td>856.438776</td>\n      <td>459.518593</td>\n      <td>957.746985</td>\n      <td>336.870769</td>\n      <td>760.617836</td>\n    </tr>\n    <tr>\n      <th>4</th>\n      <td>Afghanistan</td>\n      <td>AFG</td>\n      <td>1994</td>\n      <td>10.464435</td>\n      <td>0.263607</td>\n      <td>278.113533</td>\n      <td>155.962684</td>\n      <td>587.736708</td>\n      <td>861.397337</td>\n      <td>459.959994</td>\n      <td>958.766015</td>\n      <td>337.476586</td>\n      <td>759.161396</td>\n    </tr>\n    <tr>\n      <th>...</th>\n      <td>...</td>\n      <td>...</td>\n      <td>...</td>\n      <td>...</td>\n      <td>...</td>\n      <td>...</td>\n      <td>...</td>\n      <td>...</td>\n      <td>...</td>\n      <td>...</td>\n      <td>...</td>\n      <td>...</td>\n      <td>...</td>\n    </tr>\n    <tr>\n      <th>6463</th>\n      <td>Zimbabwe</td>\n      <td>ZWE</td>\n      <td>2013</td>\n      <td>8.612919</td>\n      <td>0.207890</td>\n      <td>218.803990</td>\n      <td>99.998684</td>\n      <td>366.898089</td>\n      <td>510.320566</td>\n      <td>308.151268</td>\n      <td>896.809679</td>\n      <td>240.396429</td>\n      <td>1175.721573</td>\n    </tr>\n    <tr>\n      <th>6464</th>\n      <td>Zimbabwe</td>\n      <td>ZWE</td>\n      <td>2014</td>\n      <td>8.731586</td>\n      <td>0.208552</td>\n      <td>218.915348</td>\n      <td>100.062666</td>\n      <td>367.400269</td>\n      <td>514.009756</td>\n      <td>307.741827</td>\n      <td>901.387971</td>\n      <td>239.889862</td>\n      <td>1179.094335</td>\n    </tr>\n    <tr>\n      <th>6465</th>\n      <td>Zimbabwe</td>\n      <td>ZWE</td>\n      <td>2015</td>\n      <td>8.646030</td>\n      <td>0.209203</td>\n      <td>218.663565</td>\n      <td>99.655702</td>\n      <td>367.898632</td>\n      <td>518.964077</td>\n      <td>308.310431</td>\n      <td>905.877422</td>\n      <td>240.390428</td>\n      <td>1183.005990</td>\n    </tr>\n    <tr>\n      <th>6466</th>\n      <td>Zimbabwe</td>\n      <td>ZWE</td>\n      <td>2016</td>\n      <td>8.777977</td>\n      <td>0.209759</td>\n      <td>218.323865</td>\n      <td>99.808751</td>\n      <td>368.456731</td>\n      <td>523.691812</td>\n      <td>308.376755</td>\n      <td>911.817819</td>\n      <td>240.443753</td>\n      <td>1185.139894</td>\n    </tr>\n    <tr>\n      <th>6467</th>\n      <td>Zimbabwe</td>\n      <td>ZWE</td>\n      <td>2017</td>\n      <td>8.773549</td>\n      <td>0.210091</td>\n      <td>218.567461</td>\n      <td>99.256370</td>\n      <td>369.090140</td>\n      <td>528.616947</td>\n      <td>308.281666</td>\n      <td>917.890919</td>\n      <td>240.719008</td>\n      <td>1189.683420</td>\n    </tr>\n  </tbody>\n</table>\n<p>6468 rows × 13 columns</p>\n</div>"
     },
     "metadata": {},
     "execution_count": 11
    }
   ],
   "source": [
    "mhdata_combined_df = mhdata_combined[[\"Entity_x\", \"Code_x\", \"Year_x\", \"-5_x\", \"-5_y\", \"5-14_x\", \"5-14_y\", \"15-49_x\", \"15-49_y\", \"50-69_x\", \"50-69_y\", \"70+_x\", \"70+_y\"]]\n",
    "mhdata_combined_df.columns = [\"Entity\", \"Code\", \"Year\", \"A_-5\", \"D_-5_y\", \"A_5-14\", \"D_5-14\", \"A_15-49\", \"D_15-49\", \"A_50-69\", \"D_50-69\", \"A_70+\", \"D_70+\"]\n",
    "mhdata_combined_df"
   ]
  },
  {
   "cell_type": "code",
   "execution_count": null,
   "metadata": {},
   "outputs": [],
   "source": []
  }
 ]
}