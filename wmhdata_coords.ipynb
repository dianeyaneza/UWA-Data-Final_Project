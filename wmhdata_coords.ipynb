{
 "metadata": {
  "language_info": {
   "codemirror_mode": {
    "name": "ipython",
    "version": 3
   },
   "file_extension": ".py",
   "mimetype": "text/x-python",
   "name": "python",
   "nbconvert_exporter": "python",
   "pygments_lexer": "ipython3",
   "version": "3.8.8"
  },
  "orig_nbformat": 2,
  "kernelspec": {
   "name": "python388jvsc74a57bd085762426d71f2b191e713c5961a63e6fefd6db17605c41aaf3f2f11771e258dd",
   "display_name": "Python 3.8.8 32-bit (conda)"
  },
  "metadata": {
   "interpreter": {
    "hash": "577179bf4518a988c8adfc40d9f19697837bdaff2a8a81f39001ca7a1ca5445c"
   }
  }
 },
 "nbformat": 4,
 "nbformat_minor": 2,
 "cells": [
  {
   "cell_type": "code",
   "execution_count": 1,
   "metadata": {},
   "outputs": [],
   "source": [
    "# Dependencies\n",
    "import csv\n",
    "import os\n",
    "import pandas as pd"
   ]
  },
  {
   "cell_type": "code",
   "execution_count": 3,
   "metadata": {},
   "outputs": [
    {
     "output_type": "execute_result",
     "data": {
      "text/plain": [
       "                         Entity   latitude   longitude\n",
       "0                   Afghanistan  33.513199   65.664803\n",
       "1                       Albania  42.651242  -73.755418\n",
       "2                       Algeria  36.775348    3.060066\n",
       "3                American Samoa -14.293662 -170.698357\n",
       "4          Andean Latin America  -6.185530  106.706880\n",
       "..                          ...        ...         ...\n",
       "226  Western Sub-Saharan Africa -33.966130   18.626440\n",
       "227                       World  36.155330  -95.992080\n",
       "228                       Yemen  14.674200   45.585800\n",
       "229                      Zambia -13.115900   27.446899\n",
       "230                    Zimbabwe -19.447100   29.815201\n",
       "\n",
       "[231 rows x 3 columns]"
      ],
      "text/html": "<div>\n<style scoped>\n    .dataframe tbody tr th:only-of-type {\n        vertical-align: middle;\n    }\n\n    .dataframe tbody tr th {\n        vertical-align: top;\n    }\n\n    .dataframe thead th {\n        text-align: right;\n    }\n</style>\n<table border=\"1\" class=\"dataframe\">\n  <thead>\n    <tr style=\"text-align: right;\">\n      <th></th>\n      <th>Entity</th>\n      <th>latitude</th>\n      <th>longitude</th>\n    </tr>\n  </thead>\n  <tbody>\n    <tr>\n      <th>0</th>\n      <td>Afghanistan</td>\n      <td>33.513199</td>\n      <td>65.664803</td>\n    </tr>\n    <tr>\n      <th>1</th>\n      <td>Albania</td>\n      <td>42.651242</td>\n      <td>-73.755418</td>\n    </tr>\n    <tr>\n      <th>2</th>\n      <td>Algeria</td>\n      <td>36.775348</td>\n      <td>3.060066</td>\n    </tr>\n    <tr>\n      <th>3</th>\n      <td>American Samoa</td>\n      <td>-14.293662</td>\n      <td>-170.698357</td>\n    </tr>\n    <tr>\n      <th>4</th>\n      <td>Andean Latin America</td>\n      <td>-6.185530</td>\n      <td>106.706880</td>\n    </tr>\n    <tr>\n      <th>...</th>\n      <td>...</td>\n      <td>...</td>\n      <td>...</td>\n    </tr>\n    <tr>\n      <th>226</th>\n      <td>Western Sub-Saharan Africa</td>\n      <td>-33.966130</td>\n      <td>18.626440</td>\n    </tr>\n    <tr>\n      <th>227</th>\n      <td>World</td>\n      <td>36.155330</td>\n      <td>-95.992080</td>\n    </tr>\n    <tr>\n      <th>228</th>\n      <td>Yemen</td>\n      <td>14.674200</td>\n      <td>45.585800</td>\n    </tr>\n    <tr>\n      <th>229</th>\n      <td>Zambia</td>\n      <td>-13.115900</td>\n      <td>27.446899</td>\n    </tr>\n    <tr>\n      <th>230</th>\n      <td>Zimbabwe</td>\n      <td>-19.447100</td>\n      <td>29.815201</td>\n    </tr>\n  </tbody>\n</table>\n<p>231 rows × 3 columns</p>\n</div>"
     },
     "metadata": {},
     "execution_count": 3
    }
   ],
   "source": [
    "countries_coords = pd.read_csv(\"Data/countries.csv\")\n",
    "countries_coords"
   ]
  },
  {
   "cell_type": "code",
   "execution_count": 4,
   "metadata": {},
   "outputs": [],
   "source": [
    "non_countries = [\"Andean Latin America\", \"Australasia\", \"Central African Republic\", \"Central Asia\", \"Central Europe\", \"Central Europe, Eastern Europe, and Central Asia\", \"Central Latin America\", \"Central Sub-Saharan Africa\", \"East Asia\", \"Eastern Europe\", \"Eastern Sub-Saharan Africa\", \"High SDI\", \"High-income\", \"High-income Asia Pacific\", \"High-middle SDI\", \"Low SDI\", \"Low-middle SDI\", \"Middle SDI\", \"North Africa and Middle East\", \"North America\", \"Oceania\", \"South Asia\", \"Southeast Asia\", \"Southeast Asia, East Asia, and Oceania\", \"Southern Latin America\", \"Southern Sub-Saharan Africa\", \"Sub-Saharan Africa\", \"Tropical Latin America\", \"Western Sub-Saharan Africa\", \"World\"]"
   ]
  },
  {
   "cell_type": "code",
   "execution_count": 5,
   "metadata": {},
   "outputs": [
    {
     "output_type": "execute_result",
     "data": {
      "text/plain": [
       "             Entity   latitude   longitude\n",
       "0       Afghanistan  33.513199   65.664803\n",
       "1           Albania  42.651242  -73.755418\n",
       "2           Algeria  36.775348    3.060066\n",
       "3    American Samoa -14.293662 -170.698357\n",
       "5           Andorra  42.545250    1.576297\n",
       "..              ...        ...         ...\n",
       "224           Wales  52.292812   -3.738930\n",
       "225  Western Europe  -6.181610  106.706720\n",
       "228           Yemen  14.674200   45.585800\n",
       "229          Zambia -13.115900   27.446899\n",
       "230        Zimbabwe -19.447100   29.815201\n",
       "\n",
       "[201 rows x 3 columns]"
      ],
      "text/html": "<div>\n<style scoped>\n    .dataframe tbody tr th:only-of-type {\n        vertical-align: middle;\n    }\n\n    .dataframe tbody tr th {\n        vertical-align: top;\n    }\n\n    .dataframe thead th {\n        text-align: right;\n    }\n</style>\n<table border=\"1\" class=\"dataframe\">\n  <thead>\n    <tr style=\"text-align: right;\">\n      <th></th>\n      <th>Entity</th>\n      <th>latitude</th>\n      <th>longitude</th>\n    </tr>\n  </thead>\n  <tbody>\n    <tr>\n      <th>0</th>\n      <td>Afghanistan</td>\n      <td>33.513199</td>\n      <td>65.664803</td>\n    </tr>\n    <tr>\n      <th>1</th>\n      <td>Albania</td>\n      <td>42.651242</td>\n      <td>-73.755418</td>\n    </tr>\n    <tr>\n      <th>2</th>\n      <td>Algeria</td>\n      <td>36.775348</td>\n      <td>3.060066</td>\n    </tr>\n    <tr>\n      <th>3</th>\n      <td>American Samoa</td>\n      <td>-14.293662</td>\n      <td>-170.698357</td>\n    </tr>\n    <tr>\n      <th>5</th>\n      <td>Andorra</td>\n      <td>42.545250</td>\n      <td>1.576297</td>\n    </tr>\n    <tr>\n      <th>...</th>\n      <td>...</td>\n      <td>...</td>\n      <td>...</td>\n    </tr>\n    <tr>\n      <th>224</th>\n      <td>Wales</td>\n      <td>52.292812</td>\n      <td>-3.738930</td>\n    </tr>\n    <tr>\n      <th>225</th>\n      <td>Western Europe</td>\n      <td>-6.181610</td>\n      <td>106.706720</td>\n    </tr>\n    <tr>\n      <th>228</th>\n      <td>Yemen</td>\n      <td>14.674200</td>\n      <td>45.585800</td>\n    </tr>\n    <tr>\n      <th>229</th>\n      <td>Zambia</td>\n      <td>-13.115900</td>\n      <td>27.446899</td>\n    </tr>\n    <tr>\n      <th>230</th>\n      <td>Zimbabwe</td>\n      <td>-19.447100</td>\n      <td>29.815201</td>\n    </tr>\n  </tbody>\n</table>\n<p>201 rows × 3 columns</p>\n</div>"
     },
     "metadata": {},
     "execution_count": 5
    }
   ],
   "source": [
    "final_countries = countries_coords[~countries_coords.Entity.isin(non_countries)]\n",
    "final_countries"
   ]
  },
  {
   "cell_type": "code",
   "execution_count": null,
   "metadata": {},
   "outputs": [],
   "source": []
  }
 ]
}